{
 "cells": [
  {
   "cell_type": "markdown",
   "metadata": {},
   "source": [
    "<center>\n",
    "    <img src=\"https://s3-api.us-geo.objectstorage.softlayer.net/cf-courses-data/CognitiveClass/Logos/organization_logo/organization_logo.png\" width=\"300\" alt=\"cognitiveclass.ai logo\"  />\n",
    "</center>\n",
    "\n",
    "# Assignment: Notebook for Peer Assignment\n",
    "\n",
    "Estimated time needed: 60 minutes\n"
   ]
  },
  {
   "cell_type": "markdown",
   "metadata": {},
   "source": [
    "# Assignment Scenario\n",
    "\n",
    "Congratulations! You have just been hired by a US Weather forecast firm as a data scientist.\n",
    "\n",
    "The company is considering the weather condition to help predict the possibility of precipitations, which involves using various local climatological variables, including temperature, wind speed, humidity, dew point, and pressure. The data you will be handling was collected by a NOAA weather station located at the John F. Kennedy International Airport in Queens, New York.\n",
    "\n",
    "Your task is to provide a high level analysis of weather data in JFK Airport. Your stakeholders want to understand the current and historical record of precipitations based on different variables. For now they are mainly interested in a macro-view of JFK Airport Weather, and how it relates to the possibility to rain because it will affect flight delays and etc.\n"
   ]
  },
  {
   "cell_type": "markdown",
   "metadata": {},
   "source": [
    "# Introduction\n",
    "\n",
    "This project relates to the NOAA Weather Dataset - JFK Airport (New York). The original dataset contains 114,546 hourly observations of 12 local climatological variables (such as temperature and wind speed) collected at JFK airport. This dataset can be obtained for free from the IBM Developer [Data Asset Exchange](https://developer.ibm.com/exchanges/data/all/jfk-weather-data/?utm_medium=Exinfluencer&utm_source=Exinfluencer&utm_content=000026UJ&utm_term=10006555&utm_id=NA-SkillsNetwork-Channel-SkillsNetworkCoursesIBMDA0151ENSkillsNetwork21582452-2022-01-01).\n",
    "\n",
    "For this project, you will be using a subset dataset, which contains 5727 rows (about 5% or original rows) and 9 columns. The end goal will be to predict the precipitation using some of the available features. In this project, you will practice reading data files, preprocessing data, creating models, improving models and evaluating them to ultimately choose the best model.\n"
   ]
  },
  {
   "cell_type": "markdown",
   "metadata": {},
   "source": [
    "## Table of Contents:\n",
    "\n",
    "Using this R notebook you will complete **10 tasks**:\n",
    "\n",
    "*   [0. Prerequisites](#cell0)\n",
    "*   [1. Download and Unzip NOAA Weather Dataset](#cell1)\n",
    "*   [2. Read Dataset into Project](#cell2)\n",
    "*   [3. Select Subset of Columns](#cell3)\n",
    "*   [4. Clean Up Columns](#cell4)\n",
    "*   [5. Convert Columns to Numerical Types](#cell5)\n",
    "*   [6. Rename Columns](#cell6)\n",
    "*   [7. Exploratory Data Analysis](#cell7)\n",
    "*   [8. Linear Regression](#cell8)\n",
    "*   [9. Improve the Model](#cell9)\n",
    "*   [10. Find Best Model](#cell10)\n",
    "\n",
    "<a id=\"cell0\"></a>\n",
    "\n",
    "## 0. Prerequisites\n",
    "\n",
    "**When creating this notebook in Watson Studio, remember to chose R under \"Select runtime\" to make sure the kernel is using R.**\n",
    "\n",
    "Before you run this notebook complete the following steps:\n",
    "\n",
    "*   Insert a project token\n",
    "*   Import required modules\n",
    "\n",
    "#### Insert a project token\n",
    "\n",
    "When you import this project from the Watson Studio Gallery, a token should be automatically generated and inserted at the top of this notebook as a code cell such as the one below:\n",
    "\n",
    "```python\n",
    "# @hidden_cell\n",
    "# The project token is an authorization token that is used to access project resources like data sources, connections, and used by platform APIs.\n",
    "from project_lib import Project\n",
    "project = Project(project_id='YOUR_PROJECT_ID', project_access_token='YOUR_PROJECT_TOKEN')\n",
    "pc = project.project_context\n",
    "```\n",
    "\n",
    "If you do not see the cell above, follow these steps to enable the notebook to access the dataset from the project's resources:\n",
    "\n",
    "*   Click on `More -> Insert project token` in the top-right menu section\n",
    "\n",
    "![ws-project.mov](https://media.giphy.com/media/jSVxX2spqwWF9unYrs/giphy.gif)\n",
    "\n",
    "*   This should insert a cell at the top of this notebook similar to the example given above.\n",
    "\n",
    "    > If an error is displayed indicating that no project token is defined, follow [these instructions](https://dataplatform.cloud.ibm.com/docs/content/wsj/analyze-data/token.html?utm_medium=Exinfluencer&utm_source=Exinfluencer&utm_content=000026UJ&utm_term=10006555&utm_id=NA-SkillsNetwork-Channel-SkillsNetworkCoursesIBMDA0151ENSkillsNetwork21582452-2022-01-01&audience=wdp&context=data).\n",
    "\n",
    "*   Run the newly inserted cell before proceeding with the notebook execution below\n",
    "\n",
    "### Import required modules\n",
    "\n",
    "Below, install \"tidymodels\", additionally \"rlang\" should be updated in order to properly run \"tidymodels\".\n"
   ]
  },
  {
   "cell_type": "code",
   "execution_count": 51,
   "metadata": {},
   "outputs": [
    {
     "name": "stderr",
     "output_type": "stream",
     "text": [
      "Updating HTML index of packages in '.Library'\n",
      "Making 'packages.html' ... done\n",
      "also installing the dependencies ‘cachem’, ‘ellipsis’, ‘warp’, ‘memoise’, ‘vctrs’, ‘lifecycle’, ‘tidyselect’, ‘pillar’, ‘glue’, ‘patchwork’, ‘generics’, ‘ipred’, ‘lubridate’, ‘slider’, ‘cpp11’, ‘broom’, ‘cli’, ‘conflicted’, ‘dials’, ‘dplyr’, ‘ggplot2’, ‘hardhat’, ‘infer’, ‘modeldata’, ‘parsnip’, ‘recipes’, ‘rsample’, ‘rstudioapi’, ‘tibble’, ‘tidyr’, ‘tune’, ‘workflows’, ‘workflowsets’, ‘yardstick’\n",
      "\n",
      "Updating HTML index of packages in '.Library'\n",
      "Making 'packages.html' ... done\n"
     ]
    }
   ],
   "source": [
    "# Install tidymodels if you haven't done so\n",
    "install.packages(\"rlang\")\n",
    "install.packages(\"tidymodels\")"
   ]
  },
  {
   "cell_type": "markdown",
   "metadata": {},
   "source": [
    "**Note: After installing the packages, restart the kernel. Without installing the packages again, load them. Tidyverse and Tidymodels will be the two main packages you will use.**\n"
   ]
  },
  {
   "cell_type": "code",
   "execution_count": 52,
   "metadata": {},
   "outputs": [],
   "source": [
    "library(tidymodels)"
   ]
  },
  {
   "cell_type": "code",
   "execution_count": 1,
   "metadata": {},
   "outputs": [
    {
     "name": "stderr",
     "output_type": "stream",
     "text": [
      "── Attaching packages ────────────────────────────────────── tidymodels 0.1.0 ──\n",
      "✔ broom     0.5.6      ✔ recipes   0.1.12\n",
      "✔ dials     0.0.6      ✔ rsample   0.0.5 \n",
      "✔ dplyr     0.8.5      ✔ tibble    3.0.1 \n",
      "✔ ggplot2   3.3.0      ✔ tune      0.1.0 \n",
      "✔ infer     0.5.1      ✔ workflows 0.1.1 \n",
      "✔ parsnip   0.1.0      ✔ yardstick 0.0.6 \n",
      "✔ purrr     0.3.4      \n",
      "── Conflicts ───────────────────────────────────────── tidymodels_conflicts() ──\n",
      "✖ purrr::discard()  masks scales::discard()\n",
      "✖ dplyr::filter()   masks stats::filter()\n",
      "✖ dplyr::lag()      masks stats::lag()\n",
      "✖ ggplot2::margin() masks dials::margin()\n",
      "✖ recipes::step()   masks stats::step()\n",
      "── Attaching packages ─────────────────────────────────────── tidyverse 1.3.0 ──\n",
      "✔ readr   1.3.1     ✔ forcats 0.5.0\n",
      "✔ stringr 1.4.0     \n",
      "── Conflicts ────────────────────────────────────────── tidyverse_conflicts() ──\n",
      "✖ readr::col_factor() masks scales::col_factor()\n",
      "✖ purrr::discard()    masks scales::discard()\n",
      "✖ dplyr::filter()     masks stats::filter()\n",
      "✖ stringr::fixed()    masks recipes::fixed()\n",
      "✖ dplyr::lag()        masks stats::lag()\n",
      "✖ ggplot2::margin()   masks dials::margin()\n",
      "✖ readr::spec()       masks yardstick::spec()\n"
     ]
    }
   ],
   "source": [
    "# Library for modeling\n",
    "library(tidymodels)\n",
    "\n",
    "# Load tidyverse\n",
    "library(tidyverse)"
   ]
  },
  {
   "cell_type": "markdown",
   "metadata": {},
   "source": [
    "### Understand the Dataset\n",
    "\n",
    "The original NOAA JFK dataset contains 114,546 hourly observations of various local climatological variables (including temperature, wind speed, humidity, dew point, and pressure).\n",
    "\n",
    "In this project you will use a sample dataset, which is around 293 KB. [Link to the sample dataset](https://dax-cdn.cdn.appdomain.cloud/dax-noaa-weather-data-jfk-airport/1.1.4/noaa-weather-sample-data.tar.gz).\n",
    "\n",
    "The sample contains 5727 rows (about 5% or original rows) and 9 columns, which are:\n",
    "\n",
    "*   DATE\n",
    "*   HOURLYDewPointTempF\n",
    "*   HOURLYRelativeHumidity\n",
    "*   HOURLYDRYBULBTEMPF\n",
    "*   HOURLYWETBULBTEMPF\n",
    "*   HOURLYPrecip\n",
    "*   HOURLYWindSpeed\n",
    "*   HOURLYSeaLevelPressure\n",
    "*   HOURLYStationPressure\n",
    "\n",
    "The original dataset is much bigger. Feel free to explore the original dataset. [Link to the original dataset.](https://dax-cdn.cdn.appdomain.cloud/dax-noaa-weather-data-jfk-airport/1.1.4/noaa_weather.html)\n",
    "\n",
    "For more information about the dataset, checkout the [preview](https://dax-cdn.cdn.appdomain.cloud/dax-noaa-weather-data-jfk-airport/1.1.4/data-preview/index.html?\\_ga=2.176781478.281508226.1616293518-1509963377.1616117067&cm_mc_uid=90945889198916153255549&cm_mc_sid\\_50200000=64650651616293516933) of NOAA Weather - JFK Airport.\n"
   ]
  },
  {
   "cell_type": "markdown",
   "metadata": {},
   "source": [
    "<a id=\"cell1\"></a>\n",
    "\n",
    "## 1. Download NOAA Weather Dataset\n",
    "\n",
    "Use the `download.file()` function to download the sample dataset from the URL below.\n",
    "\n",
    "URL = '<https://dax-cdn.cdn.appdomain.cloud/dax-noaa-weather-data-jfk-airport/1.1.4/noaa-weather-sample-data.tar.gz>'\n"
   ]
  },
  {
   "cell_type": "code",
   "execution_count": 2,
   "metadata": {},
   "outputs": [],
   "source": [
    "url<- \"https://dax-cdn.cdn.appdomain.cloud/dax-noaa-weather-data-jfk-airport/1.1.4/noaa-weather-sample-data.tar.gz\"\n",
    "download.file(url,destfile= \"noaa-weather-sample-data.tar.gz\")"
   ]
  },
  {
   "cell_type": "markdown",
   "metadata": {},
   "source": [
    "Untar the zipped file.\n"
   ]
  },
  {
   "cell_type": "code",
   "execution_count": 3,
   "metadata": {},
   "outputs": [
    {
     "name": "stderr",
     "output_type": "stream",
     "text": [
      "Warning message in untar2(tarfile, files, list, exdir, restore_times):\n",
      "“using pax extended headers”"
     ]
    }
   ],
   "source": [
    "untar(\"noaa-weather-sample-data.tar.gz\", tar= \"internal\")"
   ]
  },
  {
   "cell_type": "markdown",
   "metadata": {},
   "source": [
    "<a id=\"cell2\"></a>\n",
    "\n",
    "## 2. Extract and Read into Project\n",
    "\n",
    "We start by reading in the raw dataset. You should specify the file name as \"noaa-weather-sample-data/jfk_weather_sample.csv\".\n"
   ]
  },
  {
   "cell_type": "code",
   "execution_count": 4,
   "metadata": {},
   "outputs": [
    {
     "name": "stderr",
     "output_type": "stream",
     "text": [
      "Parsed with column specification:\n",
      "cols(\n",
      "  DATE = col_datetime(format = \"\"),\n",
      "  HOURLYDewPointTempF = col_double(),\n",
      "  HOURLYRelativeHumidity = col_double(),\n",
      "  HOURLYDRYBULBTEMPF = col_double(),\n",
      "  HOURLYWETBULBTEMPF = col_double(),\n",
      "  HOURLYPrecip = col_character(),\n",
      "  HOURLYWindSpeed = col_double(),\n",
      "  HOURLYSeaLevelPressure = col_double(),\n",
      "  HOURLYStationPressure = col_double()\n",
      ")\n",
      "Warning message:\n",
      "“1 parsing failure.\n",
      " row                 col               expected actual                                              file\n",
      "1443 HOURLYDewPointTempF no trailing characters      s 'noaa-weather-sample-data/jfk_weather_sample.csv'\n",
      "”"
     ]
    }
   ],
   "source": [
    "weather_data<- read_csv(\"noaa-weather-sample-data/jfk_weather_sample.csv\")"
   ]
  },
  {
   "cell_type": "markdown",
   "metadata": {},
   "source": [
    "Next, display the first few rows of the dataframe.\n"
   ]
  },
  {
   "cell_type": "code",
   "execution_count": 5,
   "metadata": {},
   "outputs": [
    {
     "data": {
      "text/html": [
       "<table>\n",
       "<caption>A tibble: 6 × 9</caption>\n",
       "<thead>\n",
       "\t<tr><th scope=col>DATE</th><th scope=col>HOURLYDewPointTempF</th><th scope=col>HOURLYRelativeHumidity</th><th scope=col>HOURLYDRYBULBTEMPF</th><th scope=col>HOURLYWETBULBTEMPF</th><th scope=col>HOURLYPrecip</th><th scope=col>HOURLYWindSpeed</th><th scope=col>HOURLYSeaLevelPressure</th><th scope=col>HOURLYStationPressure</th></tr>\n",
       "\t<tr><th scope=col>&lt;dttm&gt;</th><th scope=col>&lt;dbl&gt;</th><th scope=col>&lt;dbl&gt;</th><th scope=col>&lt;dbl&gt;</th><th scope=col>&lt;dbl&gt;</th><th scope=col>&lt;chr&gt;</th><th scope=col>&lt;dbl&gt;</th><th scope=col>&lt;dbl&gt;</th><th scope=col>&lt;dbl&gt;</th></tr>\n",
       "</thead>\n",
       "<tbody>\n",
       "\t<tr><td>2015-07-25 13:51:00</td><td>60</td><td>46</td><td>83</td><td>68</td><td>0.00</td><td>13</td><td>30.01</td><td>29.99</td></tr>\n",
       "\t<tr><td>2016-11-18 23:51:00</td><td>34</td><td>48</td><td>53</td><td>44</td><td>0.00</td><td> 6</td><td>30.05</td><td>30.03</td></tr>\n",
       "\t<tr><td>2013-01-06 08:51:00</td><td>33</td><td>89</td><td>36</td><td>35</td><td>0.00</td><td>13</td><td>30.14</td><td>30.12</td></tr>\n",
       "\t<tr><td>2011-01-27 16:51:00</td><td>18</td><td>48</td><td>36</td><td>30</td><td>0.00</td><td>14</td><td>29.82</td><td>29.80</td></tr>\n",
       "\t<tr><td>2015-01-03 12:16:00</td><td>27</td><td>61</td><td>39</td><td>34</td><td>T   </td><td>11</td><td>   NA</td><td>30.50</td></tr>\n",
       "\t<tr><td>2013-02-15 20:51:00</td><td>35</td><td>79</td><td>41</td><td>38</td><td>0.00</td><td> 6</td><td>29.94</td><td>29.92</td></tr>\n",
       "</tbody>\n",
       "</table>\n"
      ],
      "text/latex": [
       "A tibble: 6 × 9\n",
       "\\begin{tabular}{lllllllll}\n",
       " DATE & HOURLYDewPointTempF & HOURLYRelativeHumidity & HOURLYDRYBULBTEMPF & HOURLYWETBULBTEMPF & HOURLYPrecip & HOURLYWindSpeed & HOURLYSeaLevelPressure & HOURLYStationPressure\\\\\n",
       " <dttm> & <dbl> & <dbl> & <dbl> & <dbl> & <chr> & <dbl> & <dbl> & <dbl>\\\\\n",
       "\\hline\n",
       "\t 2015-07-25 13:51:00 & 60 & 46 & 83 & 68 & 0.00 & 13 & 30.01 & 29.99\\\\\n",
       "\t 2016-11-18 23:51:00 & 34 & 48 & 53 & 44 & 0.00 &  6 & 30.05 & 30.03\\\\\n",
       "\t 2013-01-06 08:51:00 & 33 & 89 & 36 & 35 & 0.00 & 13 & 30.14 & 30.12\\\\\n",
       "\t 2011-01-27 16:51:00 & 18 & 48 & 36 & 30 & 0.00 & 14 & 29.82 & 29.80\\\\\n",
       "\t 2015-01-03 12:16:00 & 27 & 61 & 39 & 34 & T    & 11 &    NA & 30.50\\\\\n",
       "\t 2013-02-15 20:51:00 & 35 & 79 & 41 & 38 & 0.00 &  6 & 29.94 & 29.92\\\\\n",
       "\\end{tabular}\n"
      ],
      "text/markdown": [
       "\n",
       "A tibble: 6 × 9\n",
       "\n",
       "| DATE &lt;dttm&gt; | HOURLYDewPointTempF &lt;dbl&gt; | HOURLYRelativeHumidity &lt;dbl&gt; | HOURLYDRYBULBTEMPF &lt;dbl&gt; | HOURLYWETBULBTEMPF &lt;dbl&gt; | HOURLYPrecip &lt;chr&gt; | HOURLYWindSpeed &lt;dbl&gt; | HOURLYSeaLevelPressure &lt;dbl&gt; | HOURLYStationPressure &lt;dbl&gt; |\n",
       "|---|---|---|---|---|---|---|---|---|\n",
       "| 2015-07-25 13:51:00 | 60 | 46 | 83 | 68 | 0.00 | 13 | 30.01 | 29.99 |\n",
       "| 2016-11-18 23:51:00 | 34 | 48 | 53 | 44 | 0.00 |  6 | 30.05 | 30.03 |\n",
       "| 2013-01-06 08:51:00 | 33 | 89 | 36 | 35 | 0.00 | 13 | 30.14 | 30.12 |\n",
       "| 2011-01-27 16:51:00 | 18 | 48 | 36 | 30 | 0.00 | 14 | 29.82 | 29.80 |\n",
       "| 2015-01-03 12:16:00 | 27 | 61 | 39 | 34 | T    | 11 |    NA | 30.50 |\n",
       "| 2013-02-15 20:51:00 | 35 | 79 | 41 | 38 | 0.00 |  6 | 29.94 | 29.92 |\n",
       "\n"
      ],
      "text/plain": [
       "  DATE                HOURLYDewPointTempF HOURLYRelativeHumidity\n",
       "1 2015-07-25 13:51:00 60                  46                    \n",
       "2 2016-11-18 23:51:00 34                  48                    \n",
       "3 2013-01-06 08:51:00 33                  89                    \n",
       "4 2011-01-27 16:51:00 18                  48                    \n",
       "5 2015-01-03 12:16:00 27                  61                    \n",
       "6 2013-02-15 20:51:00 35                  79                    \n",
       "  HOURLYDRYBULBTEMPF HOURLYWETBULBTEMPF HOURLYPrecip HOURLYWindSpeed\n",
       "1 83                 68                 0.00         13             \n",
       "2 53                 44                 0.00          6             \n",
       "3 36                 35                 0.00         13             \n",
       "4 36                 30                 0.00         14             \n",
       "5 39                 34                 T            11             \n",
       "6 41                 38                 0.00          6             \n",
       "  HOURLYSeaLevelPressure HOURLYStationPressure\n",
       "1 30.01                  29.99                \n",
       "2 30.05                  30.03                \n",
       "3 30.14                  30.12                \n",
       "4 29.82                  29.80                \n",
       "5    NA                  30.50                \n",
       "6 29.94                  29.92                "
      ]
     },
     "metadata": {},
     "output_type": "display_data"
    }
   ],
   "source": [
    "head(weather_data)"
   ]
  },
  {
   "cell_type": "markdown",
   "metadata": {},
   "source": [
    "Also, take a `glimpse` of the dataset to see the different column data types and make sure it is the correct subset dataset with about 5700 rows and 9 columns.\n"
   ]
  },
  {
   "cell_type": "code",
   "execution_count": 6,
   "metadata": {},
   "outputs": [
    {
     "name": "stdout",
     "output_type": "stream",
     "text": [
      "Rows: 5,727\n",
      "Columns: 9\n",
      "$ DATE                   <dttm> 2015-07-25 13:51:00, 2016-11-18 23:51:00, 201…\n",
      "$ HOURLYDewPointTempF    <dbl> 60, 34, 33, 18, 27, 35, 4, 14, 51, 71, 76, 19,…\n",
      "$ HOURLYRelativeHumidity <dbl> 46, 48, 89, 48, 61, 79, 51, 65, 90, 94, 79, 37…\n",
      "$ HOURLYDRYBULBTEMPF     <dbl> 83, 53, 36, 36, 39, 41, 19, 24, 54, 73, 83, 44…\n",
      "$ HOURLYWETBULBTEMPF     <dbl> 68, 44, 35, 30, 34, 38, 15, 21, 52, 72, 78, 35…\n",
      "$ HOURLYPrecip           <chr> \"0.00\", \"0.00\", \"0.00\", \"0.00\", \"T\", \"0.00\", \"…\n",
      "$ HOURLYWindSpeed        <dbl> 13, 6, 13, 14, 11, 6, 0, 11, 11, 5, 21, 7, 17,…\n",
      "$ HOURLYSeaLevelPressure <dbl> 30.01, 30.05, 30.14, 29.82, NA, 29.94, 30.42, …\n",
      "$ HOURLYStationPressure  <dbl> 29.99, 30.03, 30.12, 29.80, 30.50, 29.92, 30.4…\n"
     ]
    }
   ],
   "source": [
    "glimpse(weather_data)"
   ]
  },
  {
   "cell_type": "markdown",
   "metadata": {},
   "source": [
    "<a id=\"cell3\"></a>\n",
    "\n",
    "## 3. Select Subset of Columns\n",
    "\n",
    "The end goal of this project will be to predict `HOURLYprecip` (precipitation) using a few other variables. Before you can do this, you first need to preprocess the dataset. Section 3 to section 6 focuses on preprocessing.\n",
    "\n",
    "The first step in preprocessing is to select a subset of data columns and inspect the column types.\n",
    "\n",
    "The key columns that we will explore in this project are:\n",
    "\n",
    "*   HOURLYRelativeHumidity\n",
    "*   HOURLYDRYBULBTEMPF\n",
    "*   HOURLYPrecip\n",
    "*   HOURLYWindSpeed\n",
    "*   HOURLYStationPressure\n",
    "\n",
    "Data Glossary:\n",
    "\n",
    "*   'HOURLYRelativeHumidity' is the relative humidity given to the nearest whole percentage.\n",
    "*   'HOURLYDRYBULBTEMPF' is the dry-bulb temperature and is commonly used as the standard air temperature reported. It is given here in whole degrees Fahrenheit.\n",
    "*   'HOURLYPrecip' is the amount of precipitation in inches to hundredths over the past hour. For certain automated stations, precipitation will be reported at sub-hourly intervals (e.g. every 15 or 20 minutes) as an accumulated amount of all precipitation within the preceding hour. A “T” indicates a trace amount of precipitation.\n",
    "*   'HOURLYWindSpeed' is the speed of the wind at the time of observation given in miles per hour (mph).\n",
    "*   'HOURLYStationPressure' is the atmospheric pressure observed at the station during the time of observation. Given in inches of Mercury (in Hg).\n",
    "\n",
    "`Select` those five columns and store the modified dataframe as a new variable.\n"
   ]
  },
  {
   "cell_type": "code",
   "execution_count": 7,
   "metadata": {},
   "outputs": [],
   "source": [
    "sub_weather<- weather_data %>% select(HOURLYRelativeHumidity,\n",
    "HOURLYDRYBULBTEMPF,\n",
    "HOURLYPrecip,\n",
    "HOURLYWindSpeed,\n",
    "HOURLYStationPressure)"
   ]
  },
  {
   "cell_type": "markdown",
   "metadata": {},
   "source": [
    "Show the first 10 rows of this new dataframe.\n"
   ]
  },
  {
   "cell_type": "code",
   "execution_count": 8,
   "metadata": {},
   "outputs": [
    {
     "data": {
      "text/html": [
       "<table>\n",
       "<caption>A tibble: 10 × 5</caption>\n",
       "<thead>\n",
       "\t<tr><th scope=col>HOURLYRelativeHumidity</th><th scope=col>HOURLYDRYBULBTEMPF</th><th scope=col>HOURLYPrecip</th><th scope=col>HOURLYWindSpeed</th><th scope=col>HOURLYStationPressure</th></tr>\n",
       "\t<tr><th scope=col>&lt;dbl&gt;</th><th scope=col>&lt;dbl&gt;</th><th scope=col>&lt;chr&gt;</th><th scope=col>&lt;dbl&gt;</th><th scope=col>&lt;dbl&gt;</th></tr>\n",
       "</thead>\n",
       "<tbody>\n",
       "\t<tr><td>46</td><td>83</td><td>0.00</td><td>13</td><td>29.99</td></tr>\n",
       "\t<tr><td>48</td><td>53</td><td>0.00</td><td> 6</td><td>30.03</td></tr>\n",
       "\t<tr><td>89</td><td>36</td><td>0.00</td><td>13</td><td>30.12</td></tr>\n",
       "\t<tr><td>48</td><td>36</td><td>0.00</td><td>14</td><td>29.80</td></tr>\n",
       "\t<tr><td>61</td><td>39</td><td>T   </td><td>11</td><td>30.50</td></tr>\n",
       "\t<tr><td>79</td><td>41</td><td>0.00</td><td> 6</td><td>29.92</td></tr>\n",
       "\t<tr><td>51</td><td>19</td><td>0.00</td><td> 0</td><td>30.40</td></tr>\n",
       "\t<tr><td>65</td><td>24</td><td>0.00</td><td>11</td><td>30.35</td></tr>\n",
       "\t<tr><td>90</td><td>54</td><td>0.06</td><td>11</td><td>30.03</td></tr>\n",
       "\t<tr><td>94</td><td>73</td><td>NA  </td><td> 5</td><td>29.91</td></tr>\n",
       "</tbody>\n",
       "</table>\n"
      ],
      "text/latex": [
       "A tibble: 10 × 5\n",
       "\\begin{tabular}{lllll}\n",
       " HOURLYRelativeHumidity & HOURLYDRYBULBTEMPF & HOURLYPrecip & HOURLYWindSpeed & HOURLYStationPressure\\\\\n",
       " <dbl> & <dbl> & <chr> & <dbl> & <dbl>\\\\\n",
       "\\hline\n",
       "\t 46 & 83 & 0.00 & 13 & 29.99\\\\\n",
       "\t 48 & 53 & 0.00 &  6 & 30.03\\\\\n",
       "\t 89 & 36 & 0.00 & 13 & 30.12\\\\\n",
       "\t 48 & 36 & 0.00 & 14 & 29.80\\\\\n",
       "\t 61 & 39 & T    & 11 & 30.50\\\\\n",
       "\t 79 & 41 & 0.00 &  6 & 29.92\\\\\n",
       "\t 51 & 19 & 0.00 &  0 & 30.40\\\\\n",
       "\t 65 & 24 & 0.00 & 11 & 30.35\\\\\n",
       "\t 90 & 54 & 0.06 & 11 & 30.03\\\\\n",
       "\t 94 & 73 & NA   &  5 & 29.91\\\\\n",
       "\\end{tabular}\n"
      ],
      "text/markdown": [
       "\n",
       "A tibble: 10 × 5\n",
       "\n",
       "| HOURLYRelativeHumidity &lt;dbl&gt; | HOURLYDRYBULBTEMPF &lt;dbl&gt; | HOURLYPrecip &lt;chr&gt; | HOURLYWindSpeed &lt;dbl&gt; | HOURLYStationPressure &lt;dbl&gt; |\n",
       "|---|---|---|---|---|\n",
       "| 46 | 83 | 0.00 | 13 | 29.99 |\n",
       "| 48 | 53 | 0.00 |  6 | 30.03 |\n",
       "| 89 | 36 | 0.00 | 13 | 30.12 |\n",
       "| 48 | 36 | 0.00 | 14 | 29.80 |\n",
       "| 61 | 39 | T    | 11 | 30.50 |\n",
       "| 79 | 41 | 0.00 |  6 | 29.92 |\n",
       "| 51 | 19 | 0.00 |  0 | 30.40 |\n",
       "| 65 | 24 | 0.00 | 11 | 30.35 |\n",
       "| 90 | 54 | 0.06 | 11 | 30.03 |\n",
       "| 94 | 73 | NA   |  5 | 29.91 |\n",
       "\n"
      ],
      "text/plain": [
       "   HOURLYRelativeHumidity HOURLYDRYBULBTEMPF HOURLYPrecip HOURLYWindSpeed\n",
       "1  46                     83                 0.00         13             \n",
       "2  48                     53                 0.00          6             \n",
       "3  89                     36                 0.00         13             \n",
       "4  48                     36                 0.00         14             \n",
       "5  61                     39                 T            11             \n",
       "6  79                     41                 0.00          6             \n",
       "7  51                     19                 0.00          0             \n",
       "8  65                     24                 0.00         11             \n",
       "9  90                     54                 0.06         11             \n",
       "10 94                     73                 NA            5             \n",
       "   HOURLYStationPressure\n",
       "1  29.99                \n",
       "2  30.03                \n",
       "3  30.12                \n",
       "4  29.80                \n",
       "5  30.50                \n",
       "6  29.92                \n",
       "7  30.40                \n",
       "8  30.35                \n",
       "9  30.03                \n",
       "10 29.91                "
      ]
     },
     "metadata": {},
     "output_type": "display_data"
    }
   ],
   "source": [
    "head(sub_weather, 10)"
   ]
  },
  {
   "cell_type": "markdown",
   "metadata": {},
   "source": [
    "<a id=\"cell4\"></a>\n",
    "\n",
    "## 4. Clean Up Columns\n",
    "\n",
    "From the dataframe preview above, we can see that the column `HOURLYPrecip` - which is the hourly measure of precipitation levels - contains both `NA` and `T` values. `T` specifies *trace amounts of precipitation* (meaning essentially no precipitation), while `NA` means *not available*, and is used to denote missing values. Additionally, some values also have \"s\" at the end of them, indicating that the precipitation was snow.\n",
    "\n",
    "Inspect the unique values present in the column `HOURLYPrecip` (with `unique(dataframe$column)`) to see these values.\n"
   ]
  },
  {
   "cell_type": "code",
   "execution_count": 9,
   "metadata": {},
   "outputs": [
    {
     "data": {
      "text/html": [
       "<style>\n",
       ".list-inline {list-style: none; margin:0; padding: 0}\n",
       ".list-inline>li {display: inline-block}\n",
       ".list-inline>li:not(:last-child)::after {content: \"\\00b7\"; padding: 0 .5ex}\n",
       "</style>\n",
       "<ol class=list-inline><li>'0.00'</li><li>'T'</li><li>'0.06'</li><li>NA</li><li>'0.03'</li><li>'0.02'</li><li>'0.08'</li><li>'0.01'</li><li>'0.07'</li><li>'0.16'</li><li>'0.09'</li><li>'0.22'</li><li>'0.02s'</li><li>'0.24'</li><li>'0.18'</li><li>'0.05'</li><li>'0.04'</li><li>'0.09s'</li><li>'0.11'</li><li>'0.14'</li><li>'0.25'</li><li>'0.10'</li><li>'0.01s'</li><li>'0.58'</li><li>'0.12'</li><li>'0.13'</li><li>'0.46'</li><li>'1.07'</li><li>'1.19'</li><li>'0.34'</li><li>'0.20'</li><li>'0.36s'</li><li>'0.42'</li><li>'0.17'</li><li>'0.27'</li><li>'0.35'</li><li>'0.31'</li><li>'0.33'</li><li>'0.23'</li><li>'0.26'</li><li>'0.28'</li><li>'0.75'</li><li>'0.19'</li><li>'0.36'</li><li>'0.03s'</li><li>'0.07s'</li><li>'0.54'</li><li>'0.59'</li><li>'0.21'</li></ol>\n"
      ],
      "text/latex": [
       "\\begin{enumerate*}\n",
       "\\item '0.00'\n",
       "\\item 'T'\n",
       "\\item '0.06'\n",
       "\\item NA\n",
       "\\item '0.03'\n",
       "\\item '0.02'\n",
       "\\item '0.08'\n",
       "\\item '0.01'\n",
       "\\item '0.07'\n",
       "\\item '0.16'\n",
       "\\item '0.09'\n",
       "\\item '0.22'\n",
       "\\item '0.02s'\n",
       "\\item '0.24'\n",
       "\\item '0.18'\n",
       "\\item '0.05'\n",
       "\\item '0.04'\n",
       "\\item '0.09s'\n",
       "\\item '0.11'\n",
       "\\item '0.14'\n",
       "\\item '0.25'\n",
       "\\item '0.10'\n",
       "\\item '0.01s'\n",
       "\\item '0.58'\n",
       "\\item '0.12'\n",
       "\\item '0.13'\n",
       "\\item '0.46'\n",
       "\\item '1.07'\n",
       "\\item '1.19'\n",
       "\\item '0.34'\n",
       "\\item '0.20'\n",
       "\\item '0.36s'\n",
       "\\item '0.42'\n",
       "\\item '0.17'\n",
       "\\item '0.27'\n",
       "\\item '0.35'\n",
       "\\item '0.31'\n",
       "\\item '0.33'\n",
       "\\item '0.23'\n",
       "\\item '0.26'\n",
       "\\item '0.28'\n",
       "\\item '0.75'\n",
       "\\item '0.19'\n",
       "\\item '0.36'\n",
       "\\item '0.03s'\n",
       "\\item '0.07s'\n",
       "\\item '0.54'\n",
       "\\item '0.59'\n",
       "\\item '0.21'\n",
       "\\end{enumerate*}\n"
      ],
      "text/markdown": [
       "1. '0.00'\n",
       "2. 'T'\n",
       "3. '0.06'\n",
       "4. NA\n",
       "5. '0.03'\n",
       "6. '0.02'\n",
       "7. '0.08'\n",
       "8. '0.01'\n",
       "9. '0.07'\n",
       "10. '0.16'\n",
       "11. '0.09'\n",
       "12. '0.22'\n",
       "13. '0.02s'\n",
       "14. '0.24'\n",
       "15. '0.18'\n",
       "16. '0.05'\n",
       "17. '0.04'\n",
       "18. '0.09s'\n",
       "19. '0.11'\n",
       "20. '0.14'\n",
       "21. '0.25'\n",
       "22. '0.10'\n",
       "23. '0.01s'\n",
       "24. '0.58'\n",
       "25. '0.12'\n",
       "26. '0.13'\n",
       "27. '0.46'\n",
       "28. '1.07'\n",
       "29. '1.19'\n",
       "30. '0.34'\n",
       "31. '0.20'\n",
       "32. '0.36s'\n",
       "33. '0.42'\n",
       "34. '0.17'\n",
       "35. '0.27'\n",
       "36. '0.35'\n",
       "37. '0.31'\n",
       "38. '0.33'\n",
       "39. '0.23'\n",
       "40. '0.26'\n",
       "41. '0.28'\n",
       "42. '0.75'\n",
       "43. '0.19'\n",
       "44. '0.36'\n",
       "45. '0.03s'\n",
       "46. '0.07s'\n",
       "47. '0.54'\n",
       "48. '0.59'\n",
       "49. '0.21'\n",
       "\n",
       "\n"
      ],
      "text/plain": [
       " [1] \"0.00\"  \"T\"     \"0.06\"  NA      \"0.03\"  \"0.02\"  \"0.08\"  \"0.01\"  \"0.07\" \n",
       "[10] \"0.16\"  \"0.09\"  \"0.22\"  \"0.02s\" \"0.24\"  \"0.18\"  \"0.05\"  \"0.04\"  \"0.09s\"\n",
       "[19] \"0.11\"  \"0.14\"  \"0.25\"  \"0.10\"  \"0.01s\" \"0.58\"  \"0.12\"  \"0.13\"  \"0.46\" \n",
       "[28] \"1.07\"  \"1.19\"  \"0.34\"  \"0.20\"  \"0.36s\" \"0.42\"  \"0.17\"  \"0.27\"  \"0.35\" \n",
       "[37] \"0.31\"  \"0.33\"  \"0.23\"  \"0.26\"  \"0.28\"  \"0.75\"  \"0.19\"  \"0.36\"  \"0.03s\"\n",
       "[46] \"0.07s\" \"0.54\"  \"0.59\"  \"0.21\" "
      ]
     },
     "metadata": {},
     "output_type": "display_data"
    }
   ],
   "source": [
    "unique(sub_weather$HOURLYPrecip)"
   ]
  },
  {
   "cell_type": "markdown",
   "metadata": {},
   "source": [
    "Having characters in values (like the \"T\" and \"s\" that you see in the unique values) will cause problems when you create a model because values for precipitation should be numerical. So you need to fix these values that have characters.\n",
    "\n",
    "Now, for the column `HOURLYPrecip`:\n",
    "\n",
    "1.  Replace all the `T` values with \"0.0\" and\n",
    "2.  Remove \"s\" from values like \"0.02s\". In R, you can use the method `str_remove(column, pattern = \"s$\")` to remove the character \"s\" from the end of values. The \"$\" tells R to match to the end of values. The `pattern` is a regex pattern. Look at [here](https://www.rdocumentation.org/packages/stringi/versions/1.5.3/topics/about_search_regex?utm_medium=Exinfluencer&utm_source=Exinfluencer&utm_content=000026UJ&utm_term=10006555&utm_id=NA-SkillsNetwork-Channel-SkillsNetworkCoursesIBMDA0151ENSkillsNetwork21582452-2022-01-01) for more information about regex and matching to strings in R.\n",
    "\n",
    "Remember that you can use `tidyverse`'s  `mutate()` to update columns.\n",
    "\n",
    "You can check your work by checking if unique values of `HOURLYPrecip` still contain any `T` or `s`. Store the modified dataframe as a new variable.\n"
   ]
  },
  {
   "cell_type": "code",
   "execution_count": 10,
   "metadata": {},
   "outputs": [],
   "source": [
    "sub_weather1<- sub_weather %>% mutate(HOURLYPrecip1= str_replace_all(sub_weather$HOURLYPrecip, 'T', '0.0'))"
   ]
  },
  {
   "cell_type": "code",
   "execution_count": 11,
   "metadata": {},
   "outputs": [],
   "source": [
    "sub_weather2<- sub_weather1 %>% mutate(HOURLYPrecip2= str_remove(sub_weather1$HOURLYPrecip1, \"s$\"))"
   ]
  },
  {
   "cell_type": "code",
   "execution_count": 12,
   "metadata": {},
   "outputs": [
    {
     "data": {
      "text/html": [
       "<table>\n",
       "<caption>A tibble: 11 × 7</caption>\n",
       "<thead>\n",
       "\t<tr><th scope=col>HOURLYRelativeHumidity</th><th scope=col>HOURLYDRYBULBTEMPF</th><th scope=col>HOURLYPrecip</th><th scope=col>HOURLYWindSpeed</th><th scope=col>HOURLYStationPressure</th><th scope=col>HOURLYPrecip1</th><th scope=col>HOURLYPrecip2</th></tr>\n",
       "\t<tr><th scope=col>&lt;dbl&gt;</th><th scope=col>&lt;dbl&gt;</th><th scope=col>&lt;chr&gt;</th><th scope=col>&lt;dbl&gt;</th><th scope=col>&lt;dbl&gt;</th><th scope=col>&lt;chr&gt;</th><th scope=col>&lt;chr&gt;</th></tr>\n",
       "</thead>\n",
       "<tbody>\n",
       "\t<tr><td>46</td><td>83</td><td>0.00</td><td>13</td><td>29.99</td><td>0.00</td><td>0.00</td></tr>\n",
       "\t<tr><td>48</td><td>53</td><td>0.00</td><td> 6</td><td>30.03</td><td>0.00</td><td>0.00</td></tr>\n",
       "\t<tr><td>89</td><td>36</td><td>0.00</td><td>13</td><td>30.12</td><td>0.00</td><td>0.00</td></tr>\n",
       "\t<tr><td>48</td><td>36</td><td>0.00</td><td>14</td><td>29.80</td><td>0.00</td><td>0.00</td></tr>\n",
       "\t<tr><td>61</td><td>39</td><td>T   </td><td>11</td><td>30.50</td><td>0.0 </td><td>0.0 </td></tr>\n",
       "\t<tr><td>79</td><td>41</td><td>0.00</td><td> 6</td><td>29.92</td><td>0.00</td><td>0.00</td></tr>\n",
       "\t<tr><td>51</td><td>19</td><td>0.00</td><td> 0</td><td>30.40</td><td>0.00</td><td>0.00</td></tr>\n",
       "\t<tr><td>65</td><td>24</td><td>0.00</td><td>11</td><td>30.35</td><td>0.00</td><td>0.00</td></tr>\n",
       "\t<tr><td>90</td><td>54</td><td>0.06</td><td>11</td><td>30.03</td><td>0.06</td><td>0.06</td></tr>\n",
       "\t<tr><td>94</td><td>73</td><td>NA  </td><td> 5</td><td>29.91</td><td>NA  </td><td>0   </td></tr>\n",
       "\t<tr><td>79</td><td>83</td><td>NA  </td><td>21</td><td>29.75</td><td>NA  </td><td>0   </td></tr>\n",
       "</tbody>\n",
       "</table>\n"
      ],
      "text/latex": [
       "A tibble: 11 × 7\n",
       "\\begin{tabular}{lllllll}\n",
       " HOURLYRelativeHumidity & HOURLYDRYBULBTEMPF & HOURLYPrecip & HOURLYWindSpeed & HOURLYStationPressure & HOURLYPrecip1 & HOURLYPrecip2\\\\\n",
       " <dbl> & <dbl> & <chr> & <dbl> & <dbl> & <chr> & <chr>\\\\\n",
       "\\hline\n",
       "\t 46 & 83 & 0.00 & 13 & 29.99 & 0.00 & 0.00\\\\\n",
       "\t 48 & 53 & 0.00 &  6 & 30.03 & 0.00 & 0.00\\\\\n",
       "\t 89 & 36 & 0.00 & 13 & 30.12 & 0.00 & 0.00\\\\\n",
       "\t 48 & 36 & 0.00 & 14 & 29.80 & 0.00 & 0.00\\\\\n",
       "\t 61 & 39 & T    & 11 & 30.50 & 0.0  & 0.0 \\\\\n",
       "\t 79 & 41 & 0.00 &  6 & 29.92 & 0.00 & 0.00\\\\\n",
       "\t 51 & 19 & 0.00 &  0 & 30.40 & 0.00 & 0.00\\\\\n",
       "\t 65 & 24 & 0.00 & 11 & 30.35 & 0.00 & 0.00\\\\\n",
       "\t 90 & 54 & 0.06 & 11 & 30.03 & 0.06 & 0.06\\\\\n",
       "\t 94 & 73 & NA   &  5 & 29.91 & NA   & 0   \\\\\n",
       "\t 79 & 83 & NA   & 21 & 29.75 & NA   & 0   \\\\\n",
       "\\end{tabular}\n"
      ],
      "text/markdown": [
       "\n",
       "A tibble: 11 × 7\n",
       "\n",
       "| HOURLYRelativeHumidity &lt;dbl&gt; | HOURLYDRYBULBTEMPF &lt;dbl&gt; | HOURLYPrecip &lt;chr&gt; | HOURLYWindSpeed &lt;dbl&gt; | HOURLYStationPressure &lt;dbl&gt; | HOURLYPrecip1 &lt;chr&gt; | HOURLYPrecip2 &lt;chr&gt; |\n",
       "|---|---|---|---|---|---|---|\n",
       "| 46 | 83 | 0.00 | 13 | 29.99 | 0.00 | 0.00 |\n",
       "| 48 | 53 | 0.00 |  6 | 30.03 | 0.00 | 0.00 |\n",
       "| 89 | 36 | 0.00 | 13 | 30.12 | 0.00 | 0.00 |\n",
       "| 48 | 36 | 0.00 | 14 | 29.80 | 0.00 | 0.00 |\n",
       "| 61 | 39 | T    | 11 | 30.50 | 0.0  | 0.0  |\n",
       "| 79 | 41 | 0.00 |  6 | 29.92 | 0.00 | 0.00 |\n",
       "| 51 | 19 | 0.00 |  0 | 30.40 | 0.00 | 0.00 |\n",
       "| 65 | 24 | 0.00 | 11 | 30.35 | 0.00 | 0.00 |\n",
       "| 90 | 54 | 0.06 | 11 | 30.03 | 0.06 | 0.06 |\n",
       "| 94 | 73 | NA   |  5 | 29.91 | NA   | 0    |\n",
       "| 79 | 83 | NA   | 21 | 29.75 | NA   | 0    |\n",
       "\n"
      ],
      "text/plain": [
       "   HOURLYRelativeHumidity HOURLYDRYBULBTEMPF HOURLYPrecip HOURLYWindSpeed\n",
       "1  46                     83                 0.00         13             \n",
       "2  48                     53                 0.00          6             \n",
       "3  89                     36                 0.00         13             \n",
       "4  48                     36                 0.00         14             \n",
       "5  61                     39                 T            11             \n",
       "6  79                     41                 0.00          6             \n",
       "7  51                     19                 0.00          0             \n",
       "8  65                     24                 0.00         11             \n",
       "9  90                     54                 0.06         11             \n",
       "10 94                     73                 NA            5             \n",
       "11 79                     83                 NA           21             \n",
       "   HOURLYStationPressure HOURLYPrecip1 HOURLYPrecip2\n",
       "1  29.99                 0.00          0.00         \n",
       "2  30.03                 0.00          0.00         \n",
       "3  30.12                 0.00          0.00         \n",
       "4  29.80                 0.00          0.00         \n",
       "5  30.50                 0.0           0.0          \n",
       "6  29.92                 0.00          0.00         \n",
       "7  30.40                 0.00          0.00         \n",
       "8  30.35                 0.00          0.00         \n",
       "9  30.03                 0.06          0.06         \n",
       "10 29.91                 NA            0            \n",
       "11 29.75                 NA            0            "
      ]
     },
     "metadata": {},
     "output_type": "display_data"
    }
   ],
   "source": [
    "sub_weather3 <- sub_weather2 %>% replace_na(list(HOURLYPrecip2 = 0))\n",
    "head(sub_weather3, 11)"
   ]
  },
  {
   "cell_type": "code",
   "execution_count": 15,
   "metadata": {},
   "outputs": [
    {
     "data": {
      "text/html": [
       "<table>\n",
       "<caption>A tibble: 6 × 5</caption>\n",
       "<thead>\n",
       "\t<tr><th scope=col>HOURLYRelativeHumidity</th><th scope=col>HOURLYDRYBULBTEMPF</th><th scope=col>HOURLYPrecip2</th><th scope=col>HOURLYWindSpeed</th><th scope=col>HOURLYStationPressure</th></tr>\n",
       "\t<tr><th scope=col>&lt;dbl&gt;</th><th scope=col>&lt;dbl&gt;</th><th scope=col>&lt;chr&gt;</th><th scope=col>&lt;dbl&gt;</th><th scope=col>&lt;dbl&gt;</th></tr>\n",
       "</thead>\n",
       "<tbody>\n",
       "\t<tr><td>46</td><td>83</td><td>0.00</td><td>13</td><td>29.99</td></tr>\n",
       "\t<tr><td>48</td><td>53</td><td>0.00</td><td> 6</td><td>30.03</td></tr>\n",
       "\t<tr><td>89</td><td>36</td><td>0.00</td><td>13</td><td>30.12</td></tr>\n",
       "\t<tr><td>48</td><td>36</td><td>0.00</td><td>14</td><td>29.80</td></tr>\n",
       "\t<tr><td>61</td><td>39</td><td>0.0 </td><td>11</td><td>30.50</td></tr>\n",
       "\t<tr><td>79</td><td>41</td><td>0.00</td><td> 6</td><td>29.92</td></tr>\n",
       "</tbody>\n",
       "</table>\n"
      ],
      "text/latex": [
       "A tibble: 6 × 5\n",
       "\\begin{tabular}{lllll}\n",
       " HOURLYRelativeHumidity & HOURLYDRYBULBTEMPF & HOURLYPrecip2 & HOURLYWindSpeed & HOURLYStationPressure\\\\\n",
       " <dbl> & <dbl> & <chr> & <dbl> & <dbl>\\\\\n",
       "\\hline\n",
       "\t 46 & 83 & 0.00 & 13 & 29.99\\\\\n",
       "\t 48 & 53 & 0.00 &  6 & 30.03\\\\\n",
       "\t 89 & 36 & 0.00 & 13 & 30.12\\\\\n",
       "\t 48 & 36 & 0.00 & 14 & 29.80\\\\\n",
       "\t 61 & 39 & 0.0  & 11 & 30.50\\\\\n",
       "\t 79 & 41 & 0.00 &  6 & 29.92\\\\\n",
       "\\end{tabular}\n"
      ],
      "text/markdown": [
       "\n",
       "A tibble: 6 × 5\n",
       "\n",
       "| HOURLYRelativeHumidity &lt;dbl&gt; | HOURLYDRYBULBTEMPF &lt;dbl&gt; | HOURLYPrecip2 &lt;chr&gt; | HOURLYWindSpeed &lt;dbl&gt; | HOURLYStationPressure &lt;dbl&gt; |\n",
       "|---|---|---|---|---|\n",
       "| 46 | 83 | 0.00 | 13 | 29.99 |\n",
       "| 48 | 53 | 0.00 |  6 | 30.03 |\n",
       "| 89 | 36 | 0.00 | 13 | 30.12 |\n",
       "| 48 | 36 | 0.00 | 14 | 29.80 |\n",
       "| 61 | 39 | 0.0  | 11 | 30.50 |\n",
       "| 79 | 41 | 0.00 |  6 | 29.92 |\n",
       "\n"
      ],
      "text/plain": [
       "  HOURLYRelativeHumidity HOURLYDRYBULBTEMPF HOURLYPrecip2 HOURLYWindSpeed\n",
       "1 46                     83                 0.00          13             \n",
       "2 48                     53                 0.00           6             \n",
       "3 89                     36                 0.00          13             \n",
       "4 48                     36                 0.00          14             \n",
       "5 61                     39                 0.0           11             \n",
       "6 79                     41                 0.00           6             \n",
       "  HOURLYStationPressure\n",
       "1 29.99                \n",
       "2 30.03                \n",
       "3 30.12                \n",
       "4 29.80                \n",
       "5 30.50                \n",
       "6 29.92                "
      ]
     },
     "metadata": {},
     "output_type": "display_data"
    }
   ],
   "source": [
    "sub_weather4<- sub_weather3 %>% select(HOURLYRelativeHumidity,\n",
    "HOURLYDRYBULBTEMPF,\n",
    "HOURLYPrecip2,\n",
    "HOURLYWindSpeed,\n",
    "HOURLYStationPressure)\n",
    "head(sub_weather4)"
   ]
  },
  {
   "cell_type": "code",
   "execution_count": 16,
   "metadata": {},
   "outputs": [
    {
     "data": {
      "text/html": [
       "<style>\n",
       ".list-inline {list-style: none; margin:0; padding: 0}\n",
       ".list-inline>li {display: inline-block}\n",
       ".list-inline>li:not(:last-child)::after {content: \"\\00b7\"; padding: 0 .5ex}\n",
       "</style>\n",
       "<ol class=list-inline><li>'0.00'</li><li>'0.0'</li><li>'0.06'</li><li>'0'</li><li>'0.03'</li><li>'0.02'</li><li>'0.08'</li><li>'0.01'</li><li>'0.07'</li><li>'0.16'</li><li>'0.09'</li><li>'0.22'</li><li>'0.24'</li><li>'0.18'</li><li>'0.05'</li><li>'0.04'</li><li>'0.11'</li><li>'0.14'</li><li>'0.25'</li><li>'0.10'</li><li>'0.58'</li><li>'0.12'</li><li>'0.13'</li><li>'0.46'</li><li>'1.07'</li><li>'1.19'</li><li>'0.34'</li><li>'0.20'</li><li>'0.36'</li><li>'0.42'</li><li>'0.17'</li><li>'0.27'</li><li>'0.35'</li><li>'0.31'</li><li>'0.33'</li><li>'0.23'</li><li>'0.26'</li><li>'0.28'</li><li>'0.75'</li><li>'0.19'</li><li>'0.54'</li><li>'0.59'</li><li>'0.21'</li></ol>\n"
      ],
      "text/latex": [
       "\\begin{enumerate*}\n",
       "\\item '0.00'\n",
       "\\item '0.0'\n",
       "\\item '0.06'\n",
       "\\item '0'\n",
       "\\item '0.03'\n",
       "\\item '0.02'\n",
       "\\item '0.08'\n",
       "\\item '0.01'\n",
       "\\item '0.07'\n",
       "\\item '0.16'\n",
       "\\item '0.09'\n",
       "\\item '0.22'\n",
       "\\item '0.24'\n",
       "\\item '0.18'\n",
       "\\item '0.05'\n",
       "\\item '0.04'\n",
       "\\item '0.11'\n",
       "\\item '0.14'\n",
       "\\item '0.25'\n",
       "\\item '0.10'\n",
       "\\item '0.58'\n",
       "\\item '0.12'\n",
       "\\item '0.13'\n",
       "\\item '0.46'\n",
       "\\item '1.07'\n",
       "\\item '1.19'\n",
       "\\item '0.34'\n",
       "\\item '0.20'\n",
       "\\item '0.36'\n",
       "\\item '0.42'\n",
       "\\item '0.17'\n",
       "\\item '0.27'\n",
       "\\item '0.35'\n",
       "\\item '0.31'\n",
       "\\item '0.33'\n",
       "\\item '0.23'\n",
       "\\item '0.26'\n",
       "\\item '0.28'\n",
       "\\item '0.75'\n",
       "\\item '0.19'\n",
       "\\item '0.54'\n",
       "\\item '0.59'\n",
       "\\item '0.21'\n",
       "\\end{enumerate*}\n"
      ],
      "text/markdown": [
       "1. '0.00'\n",
       "2. '0.0'\n",
       "3. '0.06'\n",
       "4. '0'\n",
       "5. '0.03'\n",
       "6. '0.02'\n",
       "7. '0.08'\n",
       "8. '0.01'\n",
       "9. '0.07'\n",
       "10. '0.16'\n",
       "11. '0.09'\n",
       "12. '0.22'\n",
       "13. '0.24'\n",
       "14. '0.18'\n",
       "15. '0.05'\n",
       "16. '0.04'\n",
       "17. '0.11'\n",
       "18. '0.14'\n",
       "19. '0.25'\n",
       "20. '0.10'\n",
       "21. '0.58'\n",
       "22. '0.12'\n",
       "23. '0.13'\n",
       "24. '0.46'\n",
       "25. '1.07'\n",
       "26. '1.19'\n",
       "27. '0.34'\n",
       "28. '0.20'\n",
       "29. '0.36'\n",
       "30. '0.42'\n",
       "31. '0.17'\n",
       "32. '0.27'\n",
       "33. '0.35'\n",
       "34. '0.31'\n",
       "35. '0.33'\n",
       "36. '0.23'\n",
       "37. '0.26'\n",
       "38. '0.28'\n",
       "39. '0.75'\n",
       "40. '0.19'\n",
       "41. '0.54'\n",
       "42. '0.59'\n",
       "43. '0.21'\n",
       "\n",
       "\n"
      ],
      "text/plain": [
       " [1] \"0.00\" \"0.0\"  \"0.06\" \"0\"    \"0.03\" \"0.02\" \"0.08\" \"0.01\" \"0.07\" \"0.16\"\n",
       "[11] \"0.09\" \"0.22\" \"0.24\" \"0.18\" \"0.05\" \"0.04\" \"0.11\" \"0.14\" \"0.25\" \"0.10\"\n",
       "[21] \"0.58\" \"0.12\" \"0.13\" \"0.46\" \"1.07\" \"1.19\" \"0.34\" \"0.20\" \"0.36\" \"0.42\"\n",
       "[31] \"0.17\" \"0.27\" \"0.35\" \"0.31\" \"0.33\" \"0.23\" \"0.26\" \"0.28\" \"0.75\" \"0.19\"\n",
       "[41] \"0.54\" \"0.59\" \"0.21\""
      ]
     },
     "metadata": {},
     "output_type": "display_data"
    }
   ],
   "source": [
    "unique(sub_weather4$HOURLYPrecip2)"
   ]
  },
  {
   "cell_type": "markdown",
   "metadata": {},
   "source": [
    "<a id=\"cell5\"></a>\n",
    "\n",
    "## 5. Convert Columns to Numerical Types\n",
    "\n",
    "Now that you have removed the characters in the `HOURLYPrecip` column, you can safely covert the column to a numeric type.\n",
    "\n",
    "First, check the types of the columns. You will notice that all are `dbl` (double or numeric) except for `HOURLYPrecip`, which is `chr` (character or string). Use the `glimpse` function from Tidyverse.\n"
   ]
  },
  {
   "cell_type": "code",
   "execution_count": 17,
   "metadata": {},
   "outputs": [
    {
     "name": "stdout",
     "output_type": "stream",
     "text": [
      "Rows: 5,727\n",
      "Columns: 5\n",
      "$ HOURLYRelativeHumidity <dbl> 46, 48, 89, 48, 61, 79, 51, 65, 90, 94, 79, 37…\n",
      "$ HOURLYDRYBULBTEMPF     <dbl> 83, 53, 36, 36, 39, 41, 19, 24, 54, 73, 83, 44…\n",
      "$ HOURLYPrecip2          <chr> \"0.00\", \"0.00\", \"0.00\", \"0.00\", \"0.0\", \"0.00\",…\n",
      "$ HOURLYWindSpeed        <dbl> 13, 6, 13, 14, 11, 6, 0, 11, 11, 5, 21, 7, 17,…\n",
      "$ HOURLYStationPressure  <dbl> 29.99, 30.03, 30.12, 29.80, 30.50, 29.92, 30.4…\n"
     ]
    }
   ],
   "source": [
    "glimpse(sub_weather4)"
   ]
  },
  {
   "cell_type": "markdown",
   "metadata": {},
   "source": [
    "Convert `HOURLYPrecip` to the `numeric` type and store the cleaned dataframe as a new variable.\n"
   ]
  },
  {
   "cell_type": "code",
   "execution_count": 18,
   "metadata": {},
   "outputs": [],
   "source": [
    "clean_weather<- sub_weather4 %>% select(HOURLYRelativeHumidity, HOURLYDRYBULBTEMPF, HOURLYPrecip2, HOURLYWindSpeed, HOURLYStationPressure) %>%\n",
    "mutate_all(type.convert) %>%\n",
    "mutate_if(is.character, as.numeric)"
   ]
  },
  {
   "cell_type": "markdown",
   "metadata": {},
   "source": [
    "We can now see that all fields have numerical data type.\n"
   ]
  },
  {
   "cell_type": "code",
   "execution_count": 19,
   "metadata": {},
   "outputs": [
    {
     "name": "stdout",
     "output_type": "stream",
     "text": [
      "Rows: 5,727\n",
      "Columns: 5\n",
      "$ HOURLYRelativeHumidity <int> 46, 48, 89, 48, 61, 79, 51, 65, 90, 94, 79, 37…\n",
      "$ HOURLYDRYBULBTEMPF     <int> 83, 53, 36, 36, 39, 41, 19, 24, 54, 73, 83, 44…\n",
      "$ HOURLYPrecip2          <dbl> 0.00, 0.00, 0.00, 0.00, 0.00, 0.00, 0.00, 0.00…\n",
      "$ HOURLYWindSpeed        <int> 13, 6, 13, 14, 11, 6, 0, 11, 11, 5, 21, 7, 17,…\n",
      "$ HOURLYStationPressure  <dbl> 29.99, 30.03, 30.12, 29.80, 30.50, 29.92, 30.4…\n"
     ]
    }
   ],
   "source": [
    "glimpse(clean_weather)"
   ]
  },
  {
   "cell_type": "markdown",
   "metadata": {},
   "source": [
    "<a id=\"cell6\"></a>\n",
    "\n",
    "## 6. Rename Columns\n",
    "\n",
    "Let's rename the following columns as:\n",
    "\n",
    "*   'HOURLYRelativeHumidity' to 'relative_humidity'\n",
    "*   'HOURLYDRYBULBTEMPF' to 'dry_bulb_temp_f'\n",
    "*   'HOURLYPrecip' to 'precip'\n",
    "*   'HOURLYWindSpeed' to 'wind_speed'\n",
    "*   'HOURLYStationPressure' to 'station_pressure'\n",
    "\n",
    "You can use `dplyr::rename()`. Then, store the final dataframe as a new variable.\n"
   ]
  },
  {
   "cell_type": "code",
   "execution_count": 23,
   "metadata": {},
   "outputs": [
    {
     "data": {
      "text/html": [
       "<table>\n",
       "<caption>A tibble: 6 × 5</caption>\n",
       "<thead>\n",
       "\t<tr><th scope=col>relative_humidity</th><th scope=col>dry_bulb_temp_f</th><th scope=col>precip</th><th scope=col>wind_speed</th><th scope=col>station_pressure</th></tr>\n",
       "\t<tr><th scope=col>&lt;int&gt;</th><th scope=col>&lt;int&gt;</th><th scope=col>&lt;dbl&gt;</th><th scope=col>&lt;int&gt;</th><th scope=col>&lt;dbl&gt;</th></tr>\n",
       "</thead>\n",
       "<tbody>\n",
       "\t<tr><td>46</td><td>83</td><td>0</td><td>13</td><td>29.99</td></tr>\n",
       "\t<tr><td>48</td><td>53</td><td>0</td><td> 6</td><td>30.03</td></tr>\n",
       "\t<tr><td>89</td><td>36</td><td>0</td><td>13</td><td>30.12</td></tr>\n",
       "\t<tr><td>48</td><td>36</td><td>0</td><td>14</td><td>29.80</td></tr>\n",
       "\t<tr><td>61</td><td>39</td><td>0</td><td>11</td><td>30.50</td></tr>\n",
       "\t<tr><td>79</td><td>41</td><td>0</td><td> 6</td><td>29.92</td></tr>\n",
       "</tbody>\n",
       "</table>\n"
      ],
      "text/latex": [
       "A tibble: 6 × 5\n",
       "\\begin{tabular}{lllll}\n",
       " relative\\_humidity & dry\\_bulb\\_temp\\_f & precip & wind\\_speed & station\\_pressure\\\\\n",
       " <int> & <int> & <dbl> & <int> & <dbl>\\\\\n",
       "\\hline\n",
       "\t 46 & 83 & 0 & 13 & 29.99\\\\\n",
       "\t 48 & 53 & 0 &  6 & 30.03\\\\\n",
       "\t 89 & 36 & 0 & 13 & 30.12\\\\\n",
       "\t 48 & 36 & 0 & 14 & 29.80\\\\\n",
       "\t 61 & 39 & 0 & 11 & 30.50\\\\\n",
       "\t 79 & 41 & 0 &  6 & 29.92\\\\\n",
       "\\end{tabular}\n"
      ],
      "text/markdown": [
       "\n",
       "A tibble: 6 × 5\n",
       "\n",
       "| relative_humidity &lt;int&gt; | dry_bulb_temp_f &lt;int&gt; | precip &lt;dbl&gt; | wind_speed &lt;int&gt; | station_pressure &lt;dbl&gt; |\n",
       "|---|---|---|---|---|\n",
       "| 46 | 83 | 0 | 13 | 29.99 |\n",
       "| 48 | 53 | 0 |  6 | 30.03 |\n",
       "| 89 | 36 | 0 | 13 | 30.12 |\n",
       "| 48 | 36 | 0 | 14 | 29.80 |\n",
       "| 61 | 39 | 0 | 11 | 30.50 |\n",
       "| 79 | 41 | 0 |  6 | 29.92 |\n",
       "\n"
      ],
      "text/plain": [
       "  relative_humidity dry_bulb_temp_f precip wind_speed station_pressure\n",
       "1 46                83              0      13         29.99           \n",
       "2 48                53              0       6         30.03           \n",
       "3 89                36              0      13         30.12           \n",
       "4 48                36              0      14         29.80           \n",
       "5 61                39              0      11         30.50           \n",
       "6 79                41              0       6         29.92           "
      ]
     },
     "metadata": {},
     "output_type": "display_data"
    }
   ],
   "source": [
    "rename_weather<- rename(clean_weather, c(\"relative_humidity\" = \"HOURLYRelativeHumidity\",\n",
    "                                                             \"dry_bulb_temp_f\" = \"HOURLYDRYBULBTEMPF\",\n",
    "                                                             \"precip\" = \"HOURLYPrecip2\",\n",
    "                                                             \"wind_speed\" = \"HOURLYWindSpeed\",\n",
    "                                                             \"station_pressure\" = \"HOURLYStationPressure\"))\n",
    "head(rename_weather)\n"
   ]
  },
  {
   "cell_type": "markdown",
   "metadata": {},
   "source": [
    "<a id=\"cell7\"></a>\n",
    "\n",
    "## 7. Exploratory Data Analysis\n",
    "\n",
    "Now that you have finished preprocessing the dataset, you can can start exploring the columns more.\n",
    "\n",
    "First, split the data into a training and testing set. Splitting a dataset is done randomly, so to have reproducible results set the seed = 1234. Also, use 80% of the data for training.\n"
   ]
  },
  {
   "cell_type": "code",
   "execution_count": 26,
   "metadata": {},
   "outputs": [],
   "source": [
    "set.seed(1234)\n",
    "weather_split<- initial_split(rename_weather, prop= 0.8)\n",
    "train_data<- training(weather_split)\n",
    "test_data<- testing(weather_split)"
   ]
  },
  {
   "cell_type": "markdown",
   "metadata": {},
   "source": [
    "Next, looking at just the **training set**, plot histograms or box plots of the variables (`relative_humidity`, `dry_bulb_temp_f`, `precip`, `wind_speed`,  `station_pressure`) for an intial look of their distributions using `tidyverse`'s `ggplot`. Leave the testing set as is because it is good practice to not see the testing set until evaluating the final model.\n"
   ]
  },
  {
   "cell_type": "code",
   "execution_count": 28,
   "metadata": {},
   "outputs": [
    {
     "name": "stderr",
     "output_type": "stream",
     "text": [
      "Warning message:\n",
      "“Continuous x aesthetic -- did you forget aes(group=...)?”Warning message:\n",
      "“Removed 127 rows containing missing values (stat_boxplot).”"
     ]
    },
    {
     "data": {},
     "metadata": {},
     "output_type": "display_data"
    },
    {
     "data": {
      "image/png": "[encoded data removed]",
      "text/plain": [
       "plot without title"
      ]
     },
     "metadata": {},
     "output_type": "display_data",
     "source": "R display func"
    }
   ],
   "source": [
    "ggplot(data= train_data, mapping= aes(x= relative_humidity, y= precip)) +\n",
    "geom_boxplot(fill= \"bisque\", color= \"black\", alpha = 0.3) +\n",
    "ggtitle(\"Precipitation due to Humidity\")"
   ]
  },
  {
   "cell_type": "markdown",
   "metadata": {},
   "source": [
    "<a id=\"cell8\"></a>\n",
    "\n",
    "## 8. Linear Regression\n",
    "\n",
    "After exploring the dataset more, you are now ready to start creating models to predict the precipitation (`precip`).\n",
    "\n",
    "Create simple linear regression models where `precip` is the response variable and each of `relative_humidity`, `dry_bulb_temp_f`,`wind_speed` or `station_pressure` will be a predictor variable, e.g. `precip ~ relative_humidity`, `precip ~ dry_bulb_temp_f`, etc. for a total of four simple models.\n",
    "Additionally, visualize each simple model with a scatter plot.\n"
   ]
  },
  {
   "cell_type": "code",
   "execution_count": 34,
   "metadata": {},
   "outputs": [
    {
     "data": {
      "text/plain": [
       "parsnip model object\n",
       "\n",
       "Fit time:  5ms \n",
       "\n",
       "Call:\n",
       "stats::lm(formula = formula, data = data)\n",
       "\n",
       "Coefficients:\n",
       "      (Intercept)  relative_humidity  \n",
       "       -0.0149382          0.0002952  \n"
      ]
     },
     "metadata": {},
     "output_type": "display_data"
    },
    {
     "name": "stderr",
     "output_type": "stream",
     "text": [
      "`geom_smooth()` using formula 'y ~ x'\n",
      "Warning message:\n",
      "“Removed 127 rows containing non-finite values (stat_smooth).”Warning message:\n",
      "“Removed 127 rows containing missing values (geom_point).”"
     ]
    },
    {
     "data": {},
     "metadata": {},
     "output_type": "display_data"
    },
    {
     "data": {
      "image/png": "[encoded data removed]",
      "text/plain": [
       "plot without title"
      ]
     },
     "metadata": {},
     "output_type": "display_data",
     "source": "R display func"
    }
   ],
   "source": [
    "lm_spec<- linear_reg() %>%\n",
    "set_engine(engine= \"lm\")\n",
    "train_fit1<- lm_spec %>% fit(precip~relative_humidity, data= train_data)\n",
    "train_fit1\n",
    "ggplot(data= train_data, mapping= aes(x= relative_humidity, y= precip)) +\n",
    "geom_point()+\n",
    "geom_smooth(method= \"lm\", col = \"red\")"
   ]
  },
  {
   "cell_type": "code",
   "execution_count": 30,
   "metadata": {},
   "outputs": [
    {
     "data": {
      "text/plain": [
       "parsnip model object\n",
       "\n",
       "Fit time:  2ms \n",
       "\n",
       "Call:\n",
       "stats::lm(formula = formula, data = data)\n",
       "\n",
       "Coefficients:\n",
       "    (Intercept)  dry_bulb_temp_f  \n",
       "      5.468e-03       -1.145e-05  \n"
      ]
     },
     "metadata": {},
     "output_type": "display_data"
    },
    {
     "name": "stderr",
     "output_type": "stream",
     "text": [
      "`geom_smooth()` using formula 'y ~ x'\n",
      "Warning message:\n",
      "“Removed 127 rows containing non-finite values (stat_smooth).”Warning message:\n",
      "“Removed 127 rows containing missing values (geom_point).”"
     ]
    },
    {
     "data": {},
     "metadata": {},
     "output_type": "display_data"
    },
    {
     "data": {
      "image/png": "[encoded data removed]",
      "text/plain": [
       "plot without title"
      ]
     },
     "metadata": {},
     "output_type": "display_data",
     "source": "R display func"
    }
   ],
   "source": [
    "lm_spec<- linear_reg() %>%\n",
    "set_engine(engine= \"lm\")\n",
    "train_fit2<- lm_spec %>% fit(precip~dry_bulb_temp_f, data= train_data)\n",
    "train_fit2\n",
    "ggplot(data= train_data, mapping= aes(x= dry_bulb_temp_f, y= precip)) +\n",
    "geom_point()+\n",
    "geom_smooth(method= \"lm\", col = \"red\")"
   ]
  },
  {
   "cell_type": "code",
   "execution_count": 32,
   "metadata": {},
   "outputs": [
    {
     "data": {
      "text/plain": [
       "parsnip model object\n",
       "\n",
       "Fit time:  3ms \n",
       "\n",
       "Call:\n",
       "stats::lm(formula = formula, data = data)\n",
       "\n",
       "Coefficients:\n",
       "(Intercept)   wind_speed  \n",
       "  0.0006200    0.0003748  \n"
      ]
     },
     "metadata": {},
     "output_type": "display_data"
    },
    {
     "name": "stderr",
     "output_type": "stream",
     "text": [
      "`geom_smooth()` using formula 'y ~ x'\n",
      "Warning message:\n",
      "“Removed 132 rows containing non-finite values (stat_smooth).”Warning message:\n",
      "“Removed 132 rows containing missing values (geom_point).”"
     ]
    },
    {
     "data": {},
     "metadata": {},
     "output_type": "display_data"
    },
    {
     "data": {
      "image/png": "[encoded data removed]",
      "text/plain": [
       "plot without title"
      ]
     },
     "metadata": {},
     "output_type": "display_data",
     "source": "R display func"
    }
   ],
   "source": [
    "lm_spec<- linear_reg() %>%\n",
    "set_engine(engine= \"lm\")\n",
    "train_fit3<- lm_spec %>% fit(precip~wind_speed, data= train_data)\n",
    "train_fit3\n",
    "ggplot(data= train_data, mapping= aes(x= wind_speed, y= precip)) +\n",
    "geom_point()+\n",
    "geom_smooth(method= \"lm\", col = \"red\")"
   ]
  },
  {
   "cell_type": "code",
   "execution_count": 33,
   "metadata": {},
   "outputs": [
    {
     "data": {
      "text/plain": [
       "parsnip model object\n",
       "\n",
       "Fit time:  3ms \n",
       "\n",
       "Call:\n",
       "stats::lm(formula = formula, data = data)\n",
       "\n",
       "Coefficients:\n",
       "     (Intercept)  station_pressure  \n",
       "         0.49174          -0.01624  \n"
      ]
     },
     "metadata": {},
     "output_type": "display_data"
    },
    {
     "name": "stderr",
     "output_type": "stream",
     "text": [
      "`geom_smooth()` using formula 'y ~ x'\n",
      "Warning message:\n",
      "“Removed 133 rows containing non-finite values (stat_smooth).”Warning message:\n",
      "“Removed 133 rows containing missing values (geom_point).”"
     ]
    },
    {
     "data": {},
     "metadata": {},
     "output_type": "display_data"
    },
    {
     "data": {
      "image/png": "[encoded data removed]",
      "text/plain": [
       "plot without title"
      ]
     },
     "metadata": {},
     "output_type": "display_data",
     "source": "R display func"
    }
   ],
   "source": [
    "lm_spec<- linear_reg() %>%\n",
    "set_engine(engine= \"lm\")\n",
    "train_fit4<- lm_spec %>% fit(precip~station_pressure, data= train_data)\n",
    "train_fit4\n",
    "ggplot(data= train_data, mapping= aes(x= station_pressure, y= precip)) +\n",
    "geom_point()+\n",
    "geom_smooth(method= \"lm\", col = \"red\")"
   ]
  },
  {
   "cell_type": "markdown",
   "metadata": {},
   "source": [
    "<a id=\"cell9\"></a>\n",
    "\n",
    "## 9. Improve the Model\n",
    "\n",
    "Now, try improving the simple models you created in the previous section.\n",
    "\n",
    "Create at least two more models, each model should use at least one of the different techniques:\n",
    "\n",
    "1.  Add more features/predictors\n",
    "2.  Add regularization (L1, L2 or a mix)\n",
    "3.  Add a polynomial component\n",
    "\n",
    "Also, for each of the models you create, check the model performance using the **training set** and a metric like MSE, RMSE, or R-squared.\n",
    "\n",
    "Consider using `tidymodels` if you choose to add regularization and tune lambda.\n"
   ]
  },
  {
   "cell_type": "code",
   "execution_count": 63,
   "metadata": {},
   "outputs": [
    {
     "data": {
      "text/html": [
       "<dl>\n",
       "\t<dt>$relative_humidity</dt>\n",
       "\t\t<dd>151</dd>\n",
       "\t<dt>$dry_bulb_temp_f</dt>\n",
       "\t\t<dd>151</dd>\n",
       "\t<dt>$precip</dt>\n",
       "\t\t<dd>0</dd>\n",
       "\t<dt>$wind_speed</dt>\n",
       "\t\t<dd>156</dd>\n",
       "\t<dt>$station_pressure</dt>\n",
       "\t\t<dd>158</dd>\n",
       "</dl>\n"
      ],
      "text/latex": [
       "\\begin{description}\n",
       "\\item[\\$relative\\_humidity] 151\n",
       "\\item[\\$dry\\_bulb\\_temp\\_f] 151\n",
       "\\item[\\$precip] 0\n",
       "\\item[\\$wind\\_speed] 156\n",
       "\\item[\\$station\\_pressure] 158\n",
       "\\end{description}\n"
      ],
      "text/markdown": [
       "$relative_humidity\n",
       ":   151\n",
       "$dry_bulb_temp_f\n",
       ":   151\n",
       "$precip\n",
       ":   0\n",
       "$wind_speed\n",
       ":   156\n",
       "$station_pressure\n",
       ":   158\n",
       "\n",
       "\n"
      ],
      "text/plain": [
       "$relative_humidity\n",
       "[1] 151\n",
       "\n",
       "$dry_bulb_temp_f\n",
       "[1] 151\n",
       "\n",
       "$precip\n",
       "[1] 0\n",
       "\n",
       "$wind_speed\n",
       "[1] 156\n",
       "\n",
       "$station_pressure\n",
       "[1] 158\n"
      ]
     },
     "metadata": {},
     "output_type": "display_data"
    }
   ],
   "source": [
    "rename_weather%>% map (~sum(is.na(.)))"
   ]
  },
  {
   "cell_type": "code",
   "execution_count": 99,
   "metadata": {},
   "outputs": [
    {
     "data": {
      "text/html": [
       "<dl>\n",
       "\t<dt>$relative_humidity</dt>\n",
       "\t\t<dd>0</dd>\n",
       "\t<dt>$dry_bulb_temp_f</dt>\n",
       "\t\t<dd>0</dd>\n",
       "\t<dt>$precip</dt>\n",
       "\t\t<dd>0</dd>\n",
       "\t<dt>$wind_speed</dt>\n",
       "\t\t<dd>0</dd>\n",
       "\t<dt>$station_pressure</dt>\n",
       "\t\t<dd>0</dd>\n",
       "</dl>\n"
      ],
      "text/latex": [
       "\\begin{description}\n",
       "\\item[\\$relative\\_humidity] 0\n",
       "\\item[\\$dry\\_bulb\\_temp\\_f] 0\n",
       "\\item[\\$precip] 0\n",
       "\\item[\\$wind\\_speed] 0\n",
       "\\item[\\$station\\_pressure] 0\n",
       "\\end{description}\n"
      ],
      "text/markdown": [
       "$relative_humidity\n",
       ":   0\n",
       "$dry_bulb_temp_f\n",
       ":   0\n",
       "$precip\n",
       ":   0\n",
       "$wind_speed\n",
       ":   0\n",
       "$station_pressure\n",
       ":   0\n",
       "\n",
       "\n"
      ],
      "text/plain": [
       "$relative_humidity\n",
       "[1] 0\n",
       "\n",
       "$dry_bulb_temp_f\n",
       "[1] 0\n",
       "\n",
       "$precip\n",
       "[1] 0\n",
       "\n",
       "$wind_speed\n",
       "[1] 0\n",
       "\n",
       "$station_pressure\n",
       "[1] 0\n"
      ]
     },
     "metadata": {},
     "output_type": "display_data"
    }
   ],
   "source": [
    "fine_weather<- rename_weather %>% replace_na(list(relative_humidity= 0, dry_bulb_temp_f= 0, wind_speed = 0, station_pressure = 0))\n",
    "fine_weather%>% map (~sum(is.na(.)))"
   ]
  },
  {
   "cell_type": "code",
   "execution_count": 82,
   "metadata": {},
   "outputs": [],
   "source": [
    "set.seed(1234)\n",
    "fine_split<- initial_split(fine_weather, prop= 0.8)\n",
    "train_data1<- training(fine_split)\n",
    "test_data1<- testing(fine_split)"
   ]
  },
  {
   "cell_type": "code",
   "execution_count": 112,
   "metadata": {},
   "outputs": [
    {
     "data": {
      "text/plain": [
       "parsnip model object\n",
       "\n",
       "Fit time:  3ms \n",
       "\n",
       "Call:\n",
       "stats::lm(formula = formula, data = data)\n",
       "\n",
       "Coefficients:\n",
       "      (Intercept)  relative_humidity  \n",
       "       -0.0110874          0.0002424  \n"
      ]
     },
     "metadata": {},
     "output_type": "display_data"
    },
    {
     "name": "stderr",
     "output_type": "stream",
     "text": [
      "`geom_smooth()` using formula 'y ~ x'\n"
     ]
    },
    {
     "data": {},
     "metadata": {},
     "output_type": "display_data"
    },
    {
     "data": {
      "image/png": "[encoded data removed]",
      "text/plain": [
       "plot without title"
      ]
     },
     "metadata": {},
     "output_type": "display_data",
     "source": "R display func"
    }
   ],
   "source": [
    "#simple linear regression with relative humidity as IDV\n",
    "lm_spec<- linear_reg() %>%\n",
    "set_engine(engine= \"lm\")\n",
    "train_fitN<- lm_spec %>% fit(precip~relative_humidity, data= train_data1)\n",
    "train_fitN\n",
    "ggplot(data= train_data1, mapping= aes(x= relative_humidity, y= precip)) +\n",
    "geom_point()+\n",
    "geom_smooth(method= \"lm\", col = \"red\")"
   ]
  },
  {
   "cell_type": "code",
   "execution_count": 85,
   "metadata": {},
   "outputs": [
    {
     "data": {
      "text/html": [
       "<table>\n",
       "<caption>A tibble: 6 × 2</caption>\n",
       "<thead>\n",
       "\t<tr><th scope=col>.pred</th><th scope=col>truth</th></tr>\n",
       "\t<tr><th scope=col>&lt;dbl&gt;</th><th scope=col>&lt;dbl&gt;</th></tr>\n",
       "</thead>\n",
       "<tbody>\n",
       "\t<tr><td>6.228406e-05</td><td>0.00</td></tr>\n",
       "\t<tr><td>1.048484e-02</td><td>0.00</td></tr>\n",
       "\t<tr><td>8.060986e-03</td><td>0.00</td></tr>\n",
       "\t<tr><td>4.667597e-03</td><td>0.00</td></tr>\n",
       "\t<tr><td>1.072722e-02</td><td>0.06</td></tr>\n",
       "\t<tr><td>8.060986e-03</td><td>0.00</td></tr>\n",
       "</tbody>\n",
       "</table>\n"
      ],
      "text/latex": [
       "A tibble: 6 × 2\n",
       "\\begin{tabular}{ll}\n",
       " .pred & truth\\\\\n",
       " <dbl> & <dbl>\\\\\n",
       "\\hline\n",
       "\t 6.228406e-05 & 0.00\\\\\n",
       "\t 1.048484e-02 & 0.00\\\\\n",
       "\t 8.060986e-03 & 0.00\\\\\n",
       "\t 4.667597e-03 & 0.00\\\\\n",
       "\t 1.072722e-02 & 0.06\\\\\n",
       "\t 8.060986e-03 & 0.00\\\\\n",
       "\\end{tabular}\n"
      ],
      "text/markdown": [
       "\n",
       "A tibble: 6 × 2\n",
       "\n",
       "| .pred &lt;dbl&gt; | truth &lt;dbl&gt; |\n",
       "|---|---|\n",
       "| 6.228406e-05 | 0.00 |\n",
       "| 1.048484e-02 | 0.00 |\n",
       "| 8.060986e-03 | 0.00 |\n",
       "| 4.667597e-03 | 0.00 |\n",
       "| 1.072722e-02 | 0.06 |\n",
       "| 8.060986e-03 | 0.00 |\n",
       "\n"
      ],
      "text/plain": [
       "  .pred        truth\n",
       "1 6.228406e-05 0.00 \n",
       "2 1.048484e-02 0.00 \n",
       "3 8.060986e-03 0.00 \n",
       "4 4.667597e-03 0.00 \n",
       "5 1.072722e-02 0.06 \n",
       "6 8.060986e-03 0.00 "
      ]
     },
     "metadata": {},
     "output_type": "display_data"
    },
    {
     "data": {
      "text/html": [
       "<table>\n",
       "<caption>A tibble: 1 × 3</caption>\n",
       "<thead>\n",
       "\t<tr><th scope=col>.metric</th><th scope=col>.estimator</th><th scope=col>.estimate</th></tr>\n",
       "\t<tr><th scope=col>&lt;chr&gt;</th><th scope=col>&lt;chr&gt;</th><th scope=col>&lt;dbl&gt;</th></tr>\n",
       "</thead>\n",
       "<tbody>\n",
       "\t<tr><td>rmse</td><td>standard</td><td>0.03561273</td></tr>\n",
       "</tbody>\n",
       "</table>\n"
      ],
      "text/latex": [
       "A tibble: 1 × 3\n",
       "\\begin{tabular}{lll}\n",
       " .metric & .estimator & .estimate\\\\\n",
       " <chr> & <chr> & <dbl>\\\\\n",
       "\\hline\n",
       "\t rmse & standard & 0.03561273\\\\\n",
       "\\end{tabular}\n"
      ],
      "text/markdown": [
       "\n",
       "A tibble: 1 × 3\n",
       "\n",
       "| .metric &lt;chr&gt; | .estimator &lt;chr&gt; | .estimate &lt;dbl&gt; |\n",
       "|---|---|---|\n",
       "| rmse | standard | 0.03561273 |\n",
       "\n"
      ],
      "text/plain": [
       "  .metric .estimator .estimate \n",
       "1 rmse    standard   0.03561273"
      ]
     },
     "metadata": {},
     "output_type": "display_data"
    }
   ],
   "source": [
    "train_resultN<- train_fitN %>%\n",
    "predict(new_data= train_data1) %>%\n",
    "mutate(truth= train_data1$precip)\n",
    "head(train_resultN)\n",
    "rmse1aN<- rmse(train_resultN, truth= truth, estimate= .pred)\n",
    "rmse1aN"
   ]
  },
  {
   "cell_type": "code",
   "execution_count": 87,
   "metadata": {},
   "outputs": [
    {
     "data": {
      "text/html": [
       "<table>\n",
       "<caption>A tibble: 6 × 2</caption>\n",
       "<thead>\n",
       "\t<tr><th scope=col>.pred</th><th scope=col>truth</th></tr>\n",
       "\t<tr><th scope=col>&lt;dbl&gt;</th><th scope=col>&lt;dbl&gt;</th></tr>\n",
       "</thead>\n",
       "<tbody>\n",
       "\t<tr><td> 0.0005470539</td><td>0</td></tr>\n",
       "\t<tr><td> 0.0005470539</td><td>0</td></tr>\n",
       "\t<tr><td> 0.0036980576</td><td>0</td></tr>\n",
       "\t<tr><td> 0.0012742086</td><td>0</td></tr>\n",
       "\t<tr><td> 0.0116967595</td><td>0</td></tr>\n",
       "\t<tr><td>-0.0021191801</td><td>0</td></tr>\n",
       "</tbody>\n",
       "</table>\n"
      ],
      "text/latex": [
       "A tibble: 6 × 2\n",
       "\\begin{tabular}{ll}\n",
       " .pred & truth\\\\\n",
       " <dbl> & <dbl>\\\\\n",
       "\\hline\n",
       "\t  0.0005470539 & 0\\\\\n",
       "\t  0.0005470539 & 0\\\\\n",
       "\t  0.0036980576 & 0\\\\\n",
       "\t  0.0012742086 & 0\\\\\n",
       "\t  0.0116967595 & 0\\\\\n",
       "\t -0.0021191801 & 0\\\\\n",
       "\\end{tabular}\n"
      ],
      "text/markdown": [
       "\n",
       "A tibble: 6 × 2\n",
       "\n",
       "| .pred &lt;dbl&gt; | truth &lt;dbl&gt; |\n",
       "|---|---|\n",
       "|  0.0005470539 | 0 |\n",
       "|  0.0005470539 | 0 |\n",
       "|  0.0036980576 | 0 |\n",
       "|  0.0012742086 | 0 |\n",
       "|  0.0116967595 | 0 |\n",
       "| -0.0021191801 | 0 |\n",
       "\n"
      ],
      "text/plain": [
       "  .pred         truth\n",
       "1  0.0005470539 0    \n",
       "2  0.0005470539 0    \n",
       "3  0.0036980576 0    \n",
       "4  0.0012742086 0    \n",
       "5  0.0116967595 0    \n",
       "6 -0.0021191801 0    "
      ]
     },
     "metadata": {},
     "output_type": "display_data"
    },
    {
     "data": {
      "text/html": [
       "<table>\n",
       "<caption>A tibble: 1 × 3</caption>\n",
       "<thead>\n",
       "\t<tr><th scope=col>.metric</th><th scope=col>.estimator</th><th scope=col>.estimate</th></tr>\n",
       "\t<tr><th scope=col>&lt;chr&gt;</th><th scope=col>&lt;chr&gt;</th><th scope=col>&lt;dbl&gt;</th></tr>\n",
       "</thead>\n",
       "<tbody>\n",
       "\t<tr><td>rmse</td><td>standard</td><td>0.03162436</td></tr>\n",
       "</tbody>\n",
       "</table>\n"
      ],
      "text/latex": [
       "A tibble: 1 × 3\n",
       "\\begin{tabular}{lll}\n",
       " .metric & .estimator & .estimate\\\\\n",
       " <chr> & <chr> & <dbl>\\\\\n",
       "\\hline\n",
       "\t rmse & standard & 0.03162436\\\\\n",
       "\\end{tabular}\n"
      ],
      "text/markdown": [
       "\n",
       "A tibble: 1 × 3\n",
       "\n",
       "| .metric &lt;chr&gt; | .estimator &lt;chr&gt; | .estimate &lt;dbl&gt; |\n",
       "|---|---|---|\n",
       "| rmse | standard | 0.03162436 |\n",
       "\n"
      ],
      "text/plain": [
       "  .metric .estimator .estimate \n",
       "1 rmse    standard   0.03162436"
      ]
     },
     "metadata": {},
     "output_type": "display_data"
    }
   ],
   "source": [
    "test_resultN<- train_fitN %>%\n",
    "predict(new_data= test_data1) %>%\n",
    "mutate(truth= test_data1$precip)\n",
    "head(test_resultN)\n",
    "rmse1bN<- rmse(test_resultN, truth= truth, estimate= .pred)\n",
    "rmse1bN"
   ]
  },
  {
   "cell_type": "code",
   "execution_count": 102,
   "metadata": {},
   "outputs": [
    {
     "data": {
      "text/plain": [
       "parsnip model object\n",
       "\n",
       "Fit time:  4ms \n",
       "\n",
       "Call:\n",
       "stats::lm(formula = formula, data = data)\n",
       "\n",
       "Coefficients:\n",
       "    (Intercept)  dry_bulb_temp_f  \n",
       "      4.104e-03        1.094e-05  \n"
      ]
     },
     "metadata": {},
     "output_type": "display_data"
    },
    {
     "name": "stderr",
     "output_type": "stream",
     "text": [
      "`geom_smooth()` using formula 'y ~ x'\n"
     ]
    },
    {
     "data": {},
     "metadata": {},
     "output_type": "display_data"
    },
    {
     "data": {
      "image/png": "[encoded data removed]",
      "text/plain": [
       "plot without title"
      ]
     },
     "metadata": {},
     "output_type": "display_data",
     "source": "R display func"
    }
   ],
   "source": [
    "#simple linear regression with dry_bulb_temp_f as IDV\n",
    "lm_spec<- linear_reg() %>%\n",
    "set_engine(engine= \"lm\")\n",
    "train_fitN2<- lm_spec %>% fit(precip~dry_bulb_temp_f, data= train_data1)\n",
    "train_fitN2\n",
    "ggplot(data= train_data1, mapping= aes(x= dry_bulb_temp_f, y= precip)) +\n",
    "geom_point()+\n",
    "geom_smooth(method= \"lm\", col = \"red\")\n"
   ]
  },
  {
   "cell_type": "code",
   "execution_count": 106,
   "metadata": {},
   "outputs": [
    {
     "data": {
      "text/plain": [
       "parsnip model object\n",
       "\n",
       "Fit time:  3ms \n",
       "\n",
       "Call:\n",
       "stats::lm(formula = formula, data = data)\n",
       "\n",
       "Coefficients:\n",
       "(Intercept)   wind_speed  \n",
       "  0.0005514    0.0003795  \n"
      ]
     },
     "metadata": {},
     "output_type": "display_data"
    },
    {
     "name": "stderr",
     "output_type": "stream",
     "text": [
      "`geom_smooth()` using formula 'y ~ x'\n"
     ]
    },
    {
     "data": {},
     "metadata": {},
     "output_type": "display_data"
    },
    {
     "data": {
      "image/png": "[encoded data removed]",
      "text/plain": [
       "plot without title"
      ]
     },
     "metadata": {},
     "output_type": "display_data",
     "source": "R display func"
    }
   ],
   "source": [
    "#simple linear regression with wind_speed as IDV\n",
    "lm_spec<- linear_reg() %>%\n",
    "set_engine(engine= \"lm\")\n",
    "train_fitN3<- lm_spec %>% fit(precip~wind_speed, data= train_data1)\n",
    "train_fitN3\n",
    "ggplot(data= train_data1, mapping= aes(x= wind_speed, y= precip)) +\n",
    "geom_point()+\n",
    "geom_smooth(method= \"lm\", col = \"red\")"
   ]
  },
  {
   "cell_type": "code",
   "execution_count": 107,
   "metadata": {},
   "outputs": [
    {
     "data": {
      "text/plain": [
       "parsnip model object\n",
       "\n",
       "Fit time:  3ms \n",
       "\n",
       "Call:\n",
       "stats::lm(formula = formula, data = data)\n",
       "\n",
       "Coefficients:\n",
       "     (Intercept)  station_pressure  \n",
       "       0.0016592         0.0001043  \n"
      ]
     },
     "metadata": {},
     "output_type": "display_data"
    },
    {
     "name": "stderr",
     "output_type": "stream",
     "text": [
      "`geom_smooth()` using formula 'y ~ x'\n"
     ]
    },
    {
     "data": {},
     "metadata": {},
     "output_type": "display_data"
    },
    {
     "data": {
      "image/png": "[encoded data removed]",
      "text/plain": [
       "plot without title"
      ]
     },
     "metadata": {},
     "output_type": "display_data",
     "source": "R display func"
    }
   ],
   "source": [
    "#simple linear regression with station_pressure as IDV\n",
    "lm_spec<- linear_reg() %>%\n",
    "set_engine(engine= \"lm\")\n",
    "train_fitN4<- lm_spec %>% fit(precip~station_pressure, data= train_data1)\n",
    "train_fitN4\n",
    "ggplot(data= train_data1, mapping= aes(x= station_pressure, y= precip)) +\n",
    "geom_point()+\n",
    "geom_smooth(method= \"lm\", col = \"red\")"
   ]
  },
  {
   "cell_type": "code",
   "execution_count": null,
   "metadata": {},
   "outputs": [],
   "source": []
  },
  {
   "cell_type": "code",
   "execution_count": 92,
   "metadata": {},
   "outputs": [
    {
     "data": {
      "text/plain": [
       "parsnip model object\n",
       "\n",
       "Fit time:  7ms \n",
       "\n",
       "Call:\n",
       "stats::lm(formula = formula, data = data)\n",
       "\n",
       "Coefficients:\n",
       "                (Intercept)  poly(relative_humidity, 3)1  \n",
       "                   0.004697                     0.370850  \n",
       "poly(relative_humidity, 3)2  poly(relative_humidity, 3)3  \n",
       "                   0.295933                     0.206706  \n"
      ]
     },
     "metadata": {},
     "output_type": "display_data"
    },
    {
     "data": {
      "text/html": [
       "<table>\n",
       "<caption>A tibble: 6 × 2</caption>\n",
       "<thead>\n",
       "\t<tr><th scope=col>.pred</th><th scope=col>truth</th></tr>\n",
       "\t<tr><th scope=col>&lt;dbl&gt;</th><th scope=col>&lt;dbl&gt;</th></tr>\n",
       "</thead>\n",
       "<tbody>\n",
       "\t<tr><td>-0.0006163199</td><td>0.00</td></tr>\n",
       "\t<tr><td> 0.0133641473</td><td>0.00</td></tr>\n",
       "\t<tr><td> 0.0046618918</td><td>0.00</td></tr>\n",
       "\t<tr><td>-0.0009179511</td><td>0.00</td></tr>\n",
       "\t<tr><td> 0.0144959218</td><td>0.06</td></tr>\n",
       "\t<tr><td> 0.0046618918</td><td>0.00</td></tr>\n",
       "</tbody>\n",
       "</table>\n"
      ],
      "text/latex": [
       "A tibble: 6 × 2\n",
       "\\begin{tabular}{ll}\n",
       " .pred & truth\\\\\n",
       " <dbl> & <dbl>\\\\\n",
       "\\hline\n",
       "\t -0.0006163199 & 0.00\\\\\n",
       "\t  0.0133641473 & 0.00\\\\\n",
       "\t  0.0046618918 & 0.00\\\\\n",
       "\t -0.0009179511 & 0.00\\\\\n",
       "\t  0.0144959218 & 0.06\\\\\n",
       "\t  0.0046618918 & 0.00\\\\\n",
       "\\end{tabular}\n"
      ],
      "text/markdown": [
       "\n",
       "A tibble: 6 × 2\n",
       "\n",
       "| .pred &lt;dbl&gt; | truth &lt;dbl&gt; |\n",
       "|---|---|\n",
       "| -0.0006163199 | 0.00 |\n",
       "|  0.0133641473 | 0.00 |\n",
       "|  0.0046618918 | 0.00 |\n",
       "| -0.0009179511 | 0.00 |\n",
       "|  0.0144959218 | 0.06 |\n",
       "|  0.0046618918 | 0.00 |\n",
       "\n"
      ],
      "text/plain": [
       "  .pred         truth\n",
       "1 -0.0006163199 0.00 \n",
       "2  0.0133641473 0.00 \n",
       "3  0.0046618918 0.00 \n",
       "4 -0.0009179511 0.00 \n",
       "5  0.0144959218 0.06 \n",
       "6  0.0046618918 0.00 "
      ]
     },
     "metadata": {},
     "output_type": "display_data"
    },
    {
     "data": {
      "text/html": [
       "<table>\n",
       "<caption>A tibble: 1 × 3</caption>\n",
       "<thead>\n",
       "\t<tr><th scope=col>.metric</th><th scope=col>.estimator</th><th scope=col>.estimate</th></tr>\n",
       "\t<tr><th scope=col>&lt;chr&gt;</th><th scope=col>&lt;chr&gt;</th><th scope=col>&lt;dbl&gt;</th></tr>\n",
       "</thead>\n",
       "<tbody>\n",
       "\t<tr><td>rmse</td><td>standard</td><td>0.0352112</td></tr>\n",
       "</tbody>\n",
       "</table>\n"
      ],
      "text/latex": [
       "A tibble: 1 × 3\n",
       "\\begin{tabular}{lll}\n",
       " .metric & .estimator & .estimate\\\\\n",
       " <chr> & <chr> & <dbl>\\\\\n",
       "\\hline\n",
       "\t rmse & standard & 0.0352112\\\\\n",
       "\\end{tabular}\n"
      ],
      "text/markdown": [
       "\n",
       "A tibble: 1 × 3\n",
       "\n",
       "| .metric &lt;chr&gt; | .estimator &lt;chr&gt; | .estimate &lt;dbl&gt; |\n",
       "|---|---|---|\n",
       "| rmse | standard | 0.0352112 |\n",
       "\n"
      ],
      "text/plain": [
       "  .metric .estimator .estimate\n",
       "1 rmse    standard   0.0352112"
      ]
     },
     "metadata": {},
     "output_type": "display_data"
    }
   ],
   "source": [
    "#polynomial regression with only relative humidity as IDV\n",
    "lm_spec<- linear_reg() %>%\n",
    "set_engine(engine= \"lm\")\n",
    "train_fit6N<- lm_spec %>% fit(precip ~ poly(relative_humidity, 3), data= train_data1)\n",
    "train_fit6N\n",
    "\n",
    "train_result6N<- train_fit6N %>%\n",
    "predict(new_data= train_data1) %>%\n",
    "mutate(truth= train_data1$precip)\n",
    "head(train_result6N)\n",
    "\n",
    "rmse6aN<- rmse(train_result6N, truth= truth, estimate= .pred)\n",
    "rmse6aN"
   ]
  },
  {
   "cell_type": "code",
   "execution_count": 90,
   "metadata": {},
   "outputs": [
    {
     "data": {
      "text/html": [
       "<table>\n",
       "<caption>A tibble: 6 × 2</caption>\n",
       "<thead>\n",
       "\t<tr><th scope=col>.pred</th><th scope=col>truth</th></tr>\n",
       "\t<tr><th scope=col>&lt;dbl&gt;</th><th scope=col>&lt;dbl&gt;</th></tr>\n",
       "</thead>\n",
       "<tbody>\n",
       "\t<tr><td>-0.0009011776</td><td>0</td></tr>\n",
       "\t<tr><td>-0.0009011776</td><td>0</td></tr>\n",
       "\t<tr><td>-0.0014297923</td><td>0</td></tr>\n",
       "\t<tr><td>-0.0012514446</td><td>0</td></tr>\n",
       "\t<tr><td> 0.0195480571</td><td>0</td></tr>\n",
       "\t<tr><td> 0.0009452075</td><td>0</td></tr>\n",
       "</tbody>\n",
       "</table>\n"
      ],
      "text/latex": [
       "A tibble: 6 × 2\n",
       "\\begin{tabular}{ll}\n",
       " .pred & truth\\\\\n",
       " <dbl> & <dbl>\\\\\n",
       "\\hline\n",
       "\t -0.0009011776 & 0\\\\\n",
       "\t -0.0009011776 & 0\\\\\n",
       "\t -0.0014297923 & 0\\\\\n",
       "\t -0.0012514446 & 0\\\\\n",
       "\t  0.0195480571 & 0\\\\\n",
       "\t  0.0009452075 & 0\\\\\n",
       "\\end{tabular}\n"
      ],
      "text/markdown": [
       "\n",
       "A tibble: 6 × 2\n",
       "\n",
       "| .pred &lt;dbl&gt; | truth &lt;dbl&gt; |\n",
       "|---|---|\n",
       "| -0.0009011776 | 0 |\n",
       "| -0.0009011776 | 0 |\n",
       "| -0.0014297923 | 0 |\n",
       "| -0.0012514446 | 0 |\n",
       "|  0.0195480571 | 0 |\n",
       "|  0.0009452075 | 0 |\n",
       "\n"
      ],
      "text/plain": [
       "  .pred         truth\n",
       "1 -0.0009011776 0    \n",
       "2 -0.0009011776 0    \n",
       "3 -0.0014297923 0    \n",
       "4 -0.0012514446 0    \n",
       "5  0.0195480571 0    \n",
       "6  0.0009452075 0    "
      ]
     },
     "metadata": {},
     "output_type": "display_data"
    },
    {
     "data": {
      "text/html": [
       "<table>\n",
       "<caption>A tibble: 1 × 3</caption>\n",
       "<thead>\n",
       "\t<tr><th scope=col>.metric</th><th scope=col>.estimator</th><th scope=col>.estimate</th></tr>\n",
       "\t<tr><th scope=col>&lt;chr&gt;</th><th scope=col>&lt;chr&gt;</th><th scope=col>&lt;dbl&gt;</th></tr>\n",
       "</thead>\n",
       "<tbody>\n",
       "\t<tr><td>rmse</td><td>standard</td><td>0.03171289</td></tr>\n",
       "</tbody>\n",
       "</table>\n"
      ],
      "text/latex": [
       "A tibble: 1 × 3\n",
       "\\begin{tabular}{lll}\n",
       " .metric & .estimator & .estimate\\\\\n",
       " <chr> & <chr> & <dbl>\\\\\n",
       "\\hline\n",
       "\t rmse & standard & 0.03171289\\\\\n",
       "\\end{tabular}\n"
      ],
      "text/markdown": [
       "\n",
       "A tibble: 1 × 3\n",
       "\n",
       "| .metric &lt;chr&gt; | .estimator &lt;chr&gt; | .estimate &lt;dbl&gt; |\n",
       "|---|---|---|\n",
       "| rmse | standard | 0.03171289 |\n",
       "\n"
      ],
      "text/plain": [
       "  .metric .estimator .estimate \n",
       "1 rmse    standard   0.03171289"
      ]
     },
     "metadata": {},
     "output_type": "display_data"
    }
   ],
   "source": [
    "test_result6N<- train_fit6N %>%\n",
    "predict(new_data= test_data1) %>%\n",
    "mutate(truth= test_data1$precip)\n",
    "head(test_result6N)\n",
    "\n",
    "rmse6bN<- rmse(test_result6N, truth= truth, estimate= .pred)\n",
    "rmse6bN"
   ]
  },
  {
   "cell_type": "code",
   "execution_count": 91,
   "metadata": {},
   "outputs": [
    {
     "data": {
      "text/plain": [
       "parsnip model object\n",
       "\n",
       "Fit time:  2ms \n",
       "\n",
       "Call:\n",
       "stats::lm(formula = formula, data = data)\n",
       "\n",
       "Coefficients:\n",
       "      (Intercept)  relative_humidity    dry_bulb_temp_f         wind_speed  \n",
       "       -1.188e-03          3.333e-04         -1.866e-05          5.978e-04  \n",
       " station_pressure  \n",
       "       -7.329e-04  \n"
      ]
     },
     "metadata": {},
     "output_type": "display_data"
    },
    {
     "data": {
      "text/html": [
       "<table>\n",
       "<caption>A tibble: 6 × 2</caption>\n",
       "<thead>\n",
       "\t<tr><th scope=col>.pred</th><th scope=col>truth</th></tr>\n",
       "\t<tr><th scope=col>&lt;dbl&gt;</th><th scope=col>&lt;dbl&gt;</th></tr>\n",
       "</thead>\n",
       "<tbody>\n",
       "\t<tr><td>-0.001612544</td><td>0.00</td></tr>\n",
       "\t<tr><td> 0.013501760</td><td>0.00</td></tr>\n",
       "\t<tr><td> 0.006037494</td><td>0.00</td></tr>\n",
       "\t<tr><td> 0.004362088</td><td>0.00</td></tr>\n",
       "\t<tr><td> 0.012369570</td><td>0.06</td></tr>\n",
       "\t<tr><td> 0.014344850</td><td>0.00</td></tr>\n",
       "</tbody>\n",
       "</table>\n"
      ],
      "text/latex": [
       "A tibble: 6 × 2\n",
       "\\begin{tabular}{ll}\n",
       " .pred & truth\\\\\n",
       " <dbl> & <dbl>\\\\\n",
       "\\hline\n",
       "\t -0.001612544 & 0.00\\\\\n",
       "\t  0.013501760 & 0.00\\\\\n",
       "\t  0.006037494 & 0.00\\\\\n",
       "\t  0.004362088 & 0.00\\\\\n",
       "\t  0.012369570 & 0.06\\\\\n",
       "\t  0.014344850 & 0.00\\\\\n",
       "\\end{tabular}\n"
      ],
      "text/markdown": [
       "\n",
       "A tibble: 6 × 2\n",
       "\n",
       "| .pred &lt;dbl&gt; | truth &lt;dbl&gt; |\n",
       "|---|---|\n",
       "| -0.001612544 | 0.00 |\n",
       "|  0.013501760 | 0.00 |\n",
       "|  0.006037494 | 0.00 |\n",
       "|  0.004362088 | 0.00 |\n",
       "|  0.012369570 | 0.06 |\n",
       "|  0.014344850 | 0.00 |\n",
       "\n"
      ],
      "text/plain": [
       "  .pred        truth\n",
       "1 -0.001612544 0.00 \n",
       "2  0.013501760 0.00 \n",
       "3  0.006037494 0.00 \n",
       "4  0.004362088 0.00 \n",
       "5  0.012369570 0.06 \n",
       "6  0.014344850 0.00 "
      ]
     },
     "metadata": {},
     "output_type": "display_data"
    },
    {
     "data": {
      "text/html": [
       "<table>\n",
       "<caption>A tibble: 6 × 2</caption>\n",
       "<thead>\n",
       "\t<tr><th scope=col>.pred</th><th scope=col>truth</th></tr>\n",
       "\t<tr><th scope=col>&lt;dbl&gt;</th><th scope=col>&lt;dbl&gt;</th></tr>\n",
       "</thead>\n",
       "<tbody>\n",
       "\t<tr><td>-0.0045997711</td><td>0</td></tr>\n",
       "\t<tr><td> 0.0006682239</td><td>0</td></tr>\n",
       "\t<tr><td> 0.0026389709</td><td>0</td></tr>\n",
       "\t<tr><td>-0.0068231164</td><td>0</td></tr>\n",
       "\t<tr><td> 0.0098495561</td><td>0</td></tr>\n",
       "\t<tr><td>-0.0076617170</td><td>0</td></tr>\n",
       "</tbody>\n",
       "</table>\n"
      ],
      "text/latex": [
       "A tibble: 6 × 2\n",
       "\\begin{tabular}{ll}\n",
       " .pred & truth\\\\\n",
       " <dbl> & <dbl>\\\\\n",
       "\\hline\n",
       "\t -0.0045997711 & 0\\\\\n",
       "\t  0.0006682239 & 0\\\\\n",
       "\t  0.0026389709 & 0\\\\\n",
       "\t -0.0068231164 & 0\\\\\n",
       "\t  0.0098495561 & 0\\\\\n",
       "\t -0.0076617170 & 0\\\\\n",
       "\\end{tabular}\n"
      ],
      "text/markdown": [
       "\n",
       "A tibble: 6 × 2\n",
       "\n",
       "| .pred &lt;dbl&gt; | truth &lt;dbl&gt; |\n",
       "|---|---|\n",
       "| -0.0045997711 | 0 |\n",
       "|  0.0006682239 | 0 |\n",
       "|  0.0026389709 | 0 |\n",
       "| -0.0068231164 | 0 |\n",
       "|  0.0098495561 | 0 |\n",
       "| -0.0076617170 | 0 |\n",
       "\n"
      ],
      "text/plain": [
       "  .pred         truth\n",
       "1 -0.0045997711 0    \n",
       "2  0.0006682239 0    \n",
       "3  0.0026389709 0    \n",
       "4 -0.0068231164 0    \n",
       "5  0.0098495561 0    \n",
       "6 -0.0076617170 0    "
      ]
     },
     "metadata": {},
     "output_type": "display_data"
    },
    {
     "data": {
      "text/html": [
       "<table>\n",
       "<caption>A tibble: 1 × 3</caption>\n",
       "<thead>\n",
       "\t<tr><th scope=col>.metric</th><th scope=col>.estimator</th><th scope=col>.estimate</th></tr>\n",
       "\t<tr><th scope=col>&lt;chr&gt;</th><th scope=col>&lt;chr&gt;</th><th scope=col>&lt;dbl&gt;</th></tr>\n",
       "</thead>\n",
       "<tbody>\n",
       "\t<tr><td>rmse</td><td>standard</td><td>0.03585205</td></tr>\n",
       "</tbody>\n",
       "</table>\n"
      ],
      "text/latex": [
       "A tibble: 1 × 3\n",
       "\\begin{tabular}{lll}\n",
       " .metric & .estimator & .estimate\\\\\n",
       " <chr> & <chr> & <dbl>\\\\\n",
       "\\hline\n",
       "\t rmse & standard & 0.03585205\\\\\n",
       "\\end{tabular}\n"
      ],
      "text/markdown": [
       "\n",
       "A tibble: 1 × 3\n",
       "\n",
       "| .metric &lt;chr&gt; | .estimator &lt;chr&gt; | .estimate &lt;dbl&gt; |\n",
       "|---|---|---|\n",
       "| rmse | standard | 0.03585205 |\n",
       "\n"
      ],
      "text/plain": [
       "  .metric .estimator .estimate \n",
       "1 rmse    standard   0.03585205"
      ]
     },
     "metadata": {},
     "output_type": "display_data"
    },
    {
     "data": {
      "text/html": [
       "<table>\n",
       "<caption>A tibble: 1 × 3</caption>\n",
       "<thead>\n",
       "\t<tr><th scope=col>.metric</th><th scope=col>.estimator</th><th scope=col>.estimate</th></tr>\n",
       "\t<tr><th scope=col>&lt;chr&gt;</th><th scope=col>&lt;chr&gt;</th><th scope=col>&lt;dbl&gt;</th></tr>\n",
       "</thead>\n",
       "<tbody>\n",
       "\t<tr><td>rmse</td><td>standard</td><td>0.03170207</td></tr>\n",
       "</tbody>\n",
       "</table>\n"
      ],
      "text/latex": [
       "A tibble: 1 × 3\n",
       "\\begin{tabular}{lll}\n",
       " .metric & .estimator & .estimate\\\\\n",
       " <chr> & <chr> & <dbl>\\\\\n",
       "\\hline\n",
       "\t rmse & standard & 0.03170207\\\\\n",
       "\\end{tabular}\n"
      ],
      "text/markdown": [
       "\n",
       "A tibble: 1 × 3\n",
       "\n",
       "| .metric &lt;chr&gt; | .estimator &lt;chr&gt; | .estimate &lt;dbl&gt; |\n",
       "|---|---|---|\n",
       "| rmse | standard | 0.03170207 |\n",
       "\n"
      ],
      "text/plain": [
       "  .metric .estimator .estimate \n",
       "1 rmse    standard   0.03170207"
      ]
     },
     "metadata": {},
     "output_type": "display_data"
    }
   ],
   "source": [
    "#multiple linear model\n",
    "lm_spec<- linear_reg() %>%\n",
    "set_engine(engine= \"lm\")\n",
    "train_fit5N<- lm_spec %>% fit(precip ~ relative_humidity +dry_bulb_temp_f + wind_speed + station_pressure, data= train_data1)\n",
    "train_fit5N\n",
    "\n",
    "train_result5N<- train_fit5N %>%\n",
    "predict(new_data= train_data1) %>%\n",
    "mutate(truth= train_data1$precip)\n",
    "head(train_result5N)\n",
    "\n",
    "test_result5N<- train_fit5N %>%\n",
    "predict(new_data= test_data1) %>%\n",
    "mutate(truth= test_data1$precip)\n",
    "head(test_result5N)\n",
    "\n",
    "rmse5aN<- rmse(train_result5N, truth= truth, estimate= .pred)\n",
    "rmse5bN<- rmse(test_result5N, truth= truth, estimate= .pred)\n",
    "\n",
    "rmse5a\n",
    "rmse5b"
   ]
  },
  {
   "cell_type": "code",
   "execution_count": null,
   "metadata": {},
   "outputs": [],
   "source": []
  },
  {
   "cell_type": "code",
   "execution_count": null,
   "metadata": {},
   "outputs": [],
   "source": []
  },
  {
   "cell_type": "markdown",
   "metadata": {},
   "source": [
    "<a id=\"cell10\"></a>\n",
    "\n",
    "## 10. Find Best Model\n",
    "\n",
    "Compare the regression metrics of each model from section 9 to find the best model overall. To do this,\n",
    "\n",
    "1.  Evaluate the models on the **testing set** using at least one metric (like MSE, RMSE or R-squared).\n",
    "2.  After calculating the metrics on the testing set for each model, print them out in as a table to easily compare. You can use something like:\n",
    "\n",
    "```\n",
    "model_names <- c(\"model_1\", \"model_2\", \"model_3\")\n",
    "train_error <- c(\"model_1_value\", \"model_2_value\", \"model_3_value\")\n",
    "test_error <- c(\"model_1_value\", \"model_2_value\", \"model_3_value\")\n",
    "comparison_df <- data.frame(model_names, train_error, test_error)\n",
    "```\n",
    "\n",
    "3.  Finally, from the comparison table you create, conclude which model performed the best.\n"
   ]
  },
  {
   "cell_type": "code",
   "execution_count": 111,
   "metadata": {},
   "outputs": [
    {
     "data": {
      "text/html": [
       "<table>\n",
       "<caption>A data.frame: 3 × 3</caption>\n",
       "<thead>\n",
       "\t<tr><th scope=col>model_names</th><th scope=col>train_error</th><th scope=col>test_error</th></tr>\n",
       "\t<tr><th scope=col>&lt;fct&gt;</th><th scope=col>&lt;fct&gt;</th><th scope=col>&lt;fct&gt;</th></tr>\n",
       "</thead>\n",
       "<tbody>\n",
       "\t<tr><td>model_1(SLR)  </td><td>0.0356</td><td>0.0316</td></tr>\n",
       "\t<tr><td>model_2(MLR)  </td><td>0.0358</td><td>0.0317</td></tr>\n",
       "\t<tr><td>model_3(polyR)</td><td>0.0352</td><td>0.0317</td></tr>\n",
       "</tbody>\n",
       "</table>\n"
      ],
      "text/latex": [
       "A data.frame: 3 × 3\n",
       "\\begin{tabular}{lll}\n",
       " model\\_names & train\\_error & test\\_error\\\\\n",
       " <fct> & <fct> & <fct>\\\\\n",
       "\\hline\n",
       "\t model\\_1(SLR)   & 0.0356 & 0.0316\\\\\n",
       "\t model\\_2(MLR)   & 0.0358 & 0.0317\\\\\n",
       "\t model\\_3(polyR) & 0.0352 & 0.0317\\\\\n",
       "\\end{tabular}\n"
      ],
      "text/markdown": [
       "\n",
       "A data.frame: 3 × 3\n",
       "\n",
       "| model_names &lt;fct&gt; | train_error &lt;fct&gt; | test_error &lt;fct&gt; |\n",
       "|---|---|---|\n",
       "| model_1(SLR)   | 0.0356 | 0.0316 |\n",
       "| model_2(MLR)   | 0.0358 | 0.0317 |\n",
       "| model_3(polyR) | 0.0352 | 0.0317 |\n",
       "\n"
      ],
      "text/plain": [
       "  model_names    train_error test_error\n",
       "1 model_1(SLR)   0.0356      0.0316    \n",
       "2 model_2(MLR)   0.0358      0.0317    \n",
       "3 model_3(polyR) 0.0352      0.0317    "
      ]
     },
     "metadata": {},
     "output_type": "display_data"
    }
   ],
   "source": [
    "model_names <- c(\"model_1(SLR)\", \"model_2(MLR)\", \"model_3(polyR)\")\n",
    "train_error <- c(\"0.0356\", \"0.0358\", \"0.0352\")\n",
    "test_error <- c(\"0.0316\", \"0.0317\", \"0.0317\")\n",
    "comparison_df <- data.frame(model_names, train_error, test_error)\n",
    "comparison_df"
   ]
  },
  {
   "cell_type": "code",
   "execution_count": null,
   "metadata": {},
   "outputs": [],
   "source": [
    "best model is Model 1 (Simple Linear Model) base on the rmse values"
   ]
  },
  {
   "cell_type": "markdown",
   "metadata": {},
   "source": [
    "## Author(s)\n",
    "\n",
    "<h4> Yiwen Li </h4>\n",
    "\n",
    "## Contributions\n",
    "\n",
    "<h4> Tiffany Zhu </h4>\n",
    "\n",
    "## <h3 align=\"center\"> © IBM Corporation 2021. All rights reserved. <h3/>\n"
   ]
  }
 ],
 "metadata": {
  "kernelspec": {
   "display_name": "R",
   "language": "R",
   "name": "conda-env-r-r"
  },
  "language_info": {
   "codemirror_mode": "r",
   "file_extension": ".r",
   "mimetype": "text/x-r-source",
   "name": "R",
   "pygments_lexer": "r",
   "version": "3.5.1"
  },
  "widgets": {
   "state": {},
   "version": "1.1.2"
  }
 },
 "nbformat": 4,
 "nbformat_minor": 4
}
